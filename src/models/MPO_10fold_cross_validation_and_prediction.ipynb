{
  "nbformat": 4,
  "nbformat_minor": 0,
  "metadata": {
    "accelerator": "GPU",
    "colab": {
      "name": "clean_notebook.ipynb",
      "provenance": [],
      "collapsed_sections": []
    },
    "kernelspec": {
      "display_name": "Python 3",
      "name": "python3"
    },
    "widgets": {
      "application/vnd.jupyter.widget-state+json": {
        "6581d2fd70474ca78f70c47e6a6b84e8": {
          "model_module": "@jupyter-widgets/controls",
          "model_name": "HBoxModel",
          "state": {
            "_view_name": "HBoxView",
            "_dom_classes": [],
            "_model_name": "HBoxModel",
            "_view_module": "@jupyter-widgets/controls",
            "_model_module_version": "1.5.0",
            "_view_count": null,
            "_view_module_version": "1.5.0",
            "box_style": "",
            "layout": "IPY_MODEL_972a8feef54c46c1ab73a635e017f12e",
            "_model_module": "@jupyter-widgets/controls",
            "children": [
              "IPY_MODEL_ddad0c693eee4fdcba1a5ffcb9af0825",
              "IPY_MODEL_19bbcc2362ce4a99abce795e94732639"
            ]
          }
        },
        "972a8feef54c46c1ab73a635e017f12e": {
          "model_module": "@jupyter-widgets/base",
          "model_name": "LayoutModel",
          "state": {
            "_view_name": "LayoutView",
            "grid_template_rows": null,
            "right": null,
            "justify_content": null,
            "_view_module": "@jupyter-widgets/base",
            "overflow": null,
            "_model_module_version": "1.2.0",
            "_view_count": null,
            "flex_flow": null,
            "width": null,
            "min_width": null,
            "border": null,
            "align_items": null,
            "bottom": null,
            "_model_module": "@jupyter-widgets/base",
            "top": null,
            "grid_column": null,
            "overflow_y": null,
            "overflow_x": null,
            "grid_auto_flow": null,
            "grid_area": null,
            "grid_template_columns": null,
            "flex": null,
            "_model_name": "LayoutModel",
            "justify_items": null,
            "grid_row": null,
            "max_height": null,
            "align_content": null,
            "visibility": null,
            "align_self": null,
            "height": null,
            "min_height": null,
            "padding": null,
            "grid_auto_rows": null,
            "grid_gap": null,
            "max_width": null,
            "order": null,
            "_view_module_version": "1.2.0",
            "grid_template_areas": null,
            "object_position": null,
            "object_fit": null,
            "grid_auto_columns": null,
            "margin": null,
            "display": null,
            "left": null
          }
        },
        "ddad0c693eee4fdcba1a5ffcb9af0825": {
          "model_module": "@jupyter-widgets/controls",
          "model_name": "FloatProgressModel",
          "state": {
            "_view_name": "ProgressView",
            "style": "IPY_MODEL_a64cf8db60d7423cb73852c0610ce472",
            "_dom_classes": [],
            "description": "  6%",
            "_model_name": "FloatProgressModel",
            "bar_style": "danger",
            "max": 200,
            "_view_module": "@jupyter-widgets/controls",
            "_model_module_version": "1.5.0",
            "value": 11,
            "_view_count": null,
            "_view_module_version": "1.5.0",
            "orientation": "horizontal",
            "min": 0,
            "description_tooltip": null,
            "_model_module": "@jupyter-widgets/controls",
            "layout": "IPY_MODEL_24828984297a4d84ba60f73993d033e5"
          }
        },
        "19bbcc2362ce4a99abce795e94732639": {
          "model_module": "@jupyter-widgets/controls",
          "model_name": "HTMLModel",
          "state": {
            "_view_name": "HTMLView",
            "style": "IPY_MODEL_106d074994a54adea1f3095d16a09b5a",
            "_dom_classes": [],
            "description": "",
            "_model_name": "HTMLModel",
            "placeholder": "​",
            "_view_module": "@jupyter-widgets/controls",
            "_model_module_version": "1.5.0",
            "value": " 11/200 [01:05&lt;18:42,  5.94s/epoch, loss=0.477, accuracy=0.772, f1=0.772, val_loss=0.519, val_accuracy=0.695, val_f1=0.691]",
            "_view_count": null,
            "_view_module_version": "1.5.0",
            "description_tooltip": null,
            "_model_module": "@jupyter-widgets/controls",
            "layout": "IPY_MODEL_f25c105ba19f46d498fd2c8ed441eb50"
          }
        },
        "a64cf8db60d7423cb73852c0610ce472": {
          "model_module": "@jupyter-widgets/controls",
          "model_name": "ProgressStyleModel",
          "state": {
            "_view_name": "StyleView",
            "_model_name": "ProgressStyleModel",
            "description_width": "initial",
            "_view_module": "@jupyter-widgets/base",
            "_model_module_version": "1.5.0",
            "_view_count": null,
            "_view_module_version": "1.2.0",
            "bar_color": null,
            "_model_module": "@jupyter-widgets/controls"
          }
        },
        "24828984297a4d84ba60f73993d033e5": {
          "model_module": "@jupyter-widgets/base",
          "model_name": "LayoutModel",
          "state": {
            "_view_name": "LayoutView",
            "grid_template_rows": null,
            "right": null,
            "justify_content": null,
            "_view_module": "@jupyter-widgets/base",
            "overflow": null,
            "_model_module_version": "1.2.0",
            "_view_count": null,
            "flex_flow": null,
            "width": null,
            "min_width": null,
            "border": null,
            "align_items": null,
            "bottom": null,
            "_model_module": "@jupyter-widgets/base",
            "top": null,
            "grid_column": null,
            "overflow_y": null,
            "overflow_x": null,
            "grid_auto_flow": null,
            "grid_area": null,
            "grid_template_columns": null,
            "flex": null,
            "_model_name": "LayoutModel",
            "justify_items": null,
            "grid_row": null,
            "max_height": null,
            "align_content": null,
            "visibility": null,
            "align_self": null,
            "height": null,
            "min_height": null,
            "padding": null,
            "grid_auto_rows": null,
            "grid_gap": null,
            "max_width": null,
            "order": null,
            "_view_module_version": "1.2.0",
            "grid_template_areas": null,
            "object_position": null,
            "object_fit": null,
            "grid_auto_columns": null,
            "margin": null,
            "display": null,
            "left": null
          }
        },
        "106d074994a54adea1f3095d16a09b5a": {
          "model_module": "@jupyter-widgets/controls",
          "model_name": "DescriptionStyleModel",
          "state": {
            "_view_name": "StyleView",
            "_model_name": "DescriptionStyleModel",
            "description_width": "",
            "_view_module": "@jupyter-widgets/base",
            "_model_module_version": "1.5.0",
            "_view_count": null,
            "_view_module_version": "1.2.0",
            "_model_module": "@jupyter-widgets/controls"
          }
        },
        "f25c105ba19f46d498fd2c8ed441eb50": {
          "model_module": "@jupyter-widgets/base",
          "model_name": "LayoutModel",
          "state": {
            "_view_name": "LayoutView",
            "grid_template_rows": null,
            "right": null,
            "justify_content": null,
            "_view_module": "@jupyter-widgets/base",
            "overflow": null,
            "_model_module_version": "1.2.0",
            "_view_count": null,
            "flex_flow": null,
            "width": null,
            "min_width": null,
            "border": null,
            "align_items": null,
            "bottom": null,
            "_model_module": "@jupyter-widgets/base",
            "top": null,
            "grid_column": null,
            "overflow_y": null,
            "overflow_x": null,
            "grid_auto_flow": null,
            "grid_area": null,
            "grid_template_columns": null,
            "flex": null,
            "_model_name": "LayoutModel",
            "justify_items": null,
            "grid_row": null,
            "max_height": null,
            "align_content": null,
            "visibility": null,
            "align_self": null,
            "height": null,
            "min_height": null,
            "padding": null,
            "grid_auto_rows": null,
            "grid_gap": null,
            "max_width": null,
            "order": null,
            "_view_module_version": "1.2.0",
            "grid_template_areas": null,
            "object_position": null,
            "object_fit": null,
            "grid_auto_columns": null,
            "margin": null,
            "display": null,
            "left": null
          }
        },
        "1f179680511b4affb41feb53be77ea48": {
          "model_module": "@jupyter-widgets/controls",
          "model_name": "HBoxModel",
          "state": {
            "_view_name": "HBoxView",
            "_dom_classes": [],
            "_model_name": "HBoxModel",
            "_view_module": "@jupyter-widgets/controls",
            "_model_module_version": "1.5.0",
            "_view_count": null,
            "_view_module_version": "1.5.0",
            "box_style": "",
            "layout": "IPY_MODEL_130b3d0c373e4fc7b4252c347e6f2612",
            "_model_module": "@jupyter-widgets/controls",
            "children": [
              "IPY_MODEL_3a2c740899574cdb8560d4b7209f3bba",
              "IPY_MODEL_482b718f3e1c455f9cbdec81e9c463d2"
            ]
          }
        },
        "130b3d0c373e4fc7b4252c347e6f2612": {
          "model_module": "@jupyter-widgets/base",
          "model_name": "LayoutModel",
          "state": {
            "_view_name": "LayoutView",
            "grid_template_rows": null,
            "right": null,
            "justify_content": null,
            "_view_module": "@jupyter-widgets/base",
            "overflow": null,
            "_model_module_version": "1.2.0",
            "_view_count": null,
            "flex_flow": null,
            "width": null,
            "min_width": null,
            "border": null,
            "align_items": null,
            "bottom": null,
            "_model_module": "@jupyter-widgets/base",
            "top": null,
            "grid_column": null,
            "overflow_y": null,
            "overflow_x": null,
            "grid_auto_flow": null,
            "grid_area": null,
            "grid_template_columns": null,
            "flex": null,
            "_model_name": "LayoutModel",
            "justify_items": null,
            "grid_row": null,
            "max_height": null,
            "align_content": null,
            "visibility": null,
            "align_self": null,
            "height": null,
            "min_height": null,
            "padding": null,
            "grid_auto_rows": null,
            "grid_gap": null,
            "max_width": null,
            "order": null,
            "_view_module_version": "1.2.0",
            "grid_template_areas": null,
            "object_position": null,
            "object_fit": null,
            "grid_auto_columns": null,
            "margin": null,
            "display": null,
            "left": null
          }
        },
        "3a2c740899574cdb8560d4b7209f3bba": {
          "model_module": "@jupyter-widgets/controls",
          "model_name": "FloatProgressModel",
          "state": {
            "_view_name": "ProgressView",
            "style": "IPY_MODEL_15a2cfe3379445dab3ff068e63bf14d5",
            "_dom_classes": [],
            "description": " 12%",
            "_model_name": "FloatProgressModel",
            "bar_style": "danger",
            "max": 200,
            "_view_module": "@jupyter-widgets/controls",
            "_model_module_version": "1.5.0",
            "value": 25,
            "_view_count": null,
            "_view_module_version": "1.5.0",
            "orientation": "horizontal",
            "min": 0,
            "description_tooltip": null,
            "_model_module": "@jupyter-widgets/controls",
            "layout": "IPY_MODEL_59a43c16912049d6bc77334540c851b6"
          }
        },
        "482b718f3e1c455f9cbdec81e9c463d2": {
          "model_module": "@jupyter-widgets/controls",
          "model_name": "HTMLModel",
          "state": {
            "_view_name": "HTMLView",
            "style": "IPY_MODEL_b9cea158b7074cb3b821d8af25b04312",
            "_dom_classes": [],
            "description": "",
            "_model_name": "HTMLModel",
            "placeholder": "​",
            "_view_module": "@jupyter-widgets/controls",
            "_model_module_version": "1.5.0",
            "value": " 25/200 [00:44&lt;05:09,  1.77s/epoch, loss=0.416, accuracy=0.817, f1=0.817, val_loss=0.441, val_accuracy=0.805, val_f1=0.809]",
            "_view_count": null,
            "_view_module_version": "1.5.0",
            "description_tooltip": null,
            "_model_module": "@jupyter-widgets/controls",
            "layout": "IPY_MODEL_1f42d588e9124ea88970541377b39c9f"
          }
        },
        "15a2cfe3379445dab3ff068e63bf14d5": {
          "model_module": "@jupyter-widgets/controls",
          "model_name": "ProgressStyleModel",
          "state": {
            "_view_name": "StyleView",
            "_model_name": "ProgressStyleModel",
            "description_width": "initial",
            "_view_module": "@jupyter-widgets/base",
            "_model_module_version": "1.5.0",
            "_view_count": null,
            "_view_module_version": "1.2.0",
            "bar_color": null,
            "_model_module": "@jupyter-widgets/controls"
          }
        },
        "59a43c16912049d6bc77334540c851b6": {
          "model_module": "@jupyter-widgets/base",
          "model_name": "LayoutModel",
          "state": {
            "_view_name": "LayoutView",
            "grid_template_rows": null,
            "right": null,
            "justify_content": null,
            "_view_module": "@jupyter-widgets/base",
            "overflow": null,
            "_model_module_version": "1.2.0",
            "_view_count": null,
            "flex_flow": null,
            "width": null,
            "min_width": null,
            "border": null,
            "align_items": null,
            "bottom": null,
            "_model_module": "@jupyter-widgets/base",
            "top": null,
            "grid_column": null,
            "overflow_y": null,
            "overflow_x": null,
            "grid_auto_flow": null,
            "grid_area": null,
            "grid_template_columns": null,
            "flex": null,
            "_model_name": "LayoutModel",
            "justify_items": null,
            "grid_row": null,
            "max_height": null,
            "align_content": null,
            "visibility": null,
            "align_self": null,
            "height": null,
            "min_height": null,
            "padding": null,
            "grid_auto_rows": null,
            "grid_gap": null,
            "max_width": null,
            "order": null,
            "_view_module_version": "1.2.0",
            "grid_template_areas": null,
            "object_position": null,
            "object_fit": null,
            "grid_auto_columns": null,
            "margin": null,
            "display": null,
            "left": null
          }
        },
        "b9cea158b7074cb3b821d8af25b04312": {
          "model_module": "@jupyter-widgets/controls",
          "model_name": "DescriptionStyleModel",
          "state": {
            "_view_name": "StyleView",
            "_model_name": "DescriptionStyleModel",
            "description_width": "",
            "_view_module": "@jupyter-widgets/base",
            "_model_module_version": "1.5.0",
            "_view_count": null,
            "_view_module_version": "1.2.0",
            "_model_module": "@jupyter-widgets/controls"
          }
        },
        "1f42d588e9124ea88970541377b39c9f": {
          "model_module": "@jupyter-widgets/base",
          "model_name": "LayoutModel",
          "state": {
            "_view_name": "LayoutView",
            "grid_template_rows": null,
            "right": null,
            "justify_content": null,
            "_view_module": "@jupyter-widgets/base",
            "overflow": null,
            "_model_module_version": "1.2.0",
            "_view_count": null,
            "flex_flow": null,
            "width": null,
            "min_width": null,
            "border": null,
            "align_items": null,
            "bottom": null,
            "_model_module": "@jupyter-widgets/base",
            "top": null,
            "grid_column": null,
            "overflow_y": null,
            "overflow_x": null,
            "grid_auto_flow": null,
            "grid_area": null,
            "grid_template_columns": null,
            "flex": null,
            "_model_name": "LayoutModel",
            "justify_items": null,
            "grid_row": null,
            "max_height": null,
            "align_content": null,
            "visibility": null,
            "align_self": null,
            "height": null,
            "min_height": null,
            "padding": null,
            "grid_auto_rows": null,
            "grid_gap": null,
            "max_width": null,
            "order": null,
            "_view_module_version": "1.2.0",
            "grid_template_areas": null,
            "object_position": null,
            "object_fit": null,
            "grid_auto_columns": null,
            "margin": null,
            "display": null,
            "left": null
          }
        },
        "37f62792fa2745ce82b13639d0a36449": {
          "model_module": "@jupyter-widgets/controls",
          "model_name": "HBoxModel",
          "state": {
            "_view_name": "HBoxView",
            "_dom_classes": [],
            "_model_name": "HBoxModel",
            "_view_module": "@jupyter-widgets/controls",
            "_model_module_version": "1.5.0",
            "_view_count": null,
            "_view_module_version": "1.5.0",
            "box_style": "",
            "layout": "IPY_MODEL_f16cfa2330d1400685f98ee512c75d4a",
            "_model_module": "@jupyter-widgets/controls",
            "children": [
              "IPY_MODEL_11e311eca9144d649ba94728cad67fe0",
              "IPY_MODEL_7c5d97fa8f414c8583cb2880da8abe44"
            ]
          }
        },
        "f16cfa2330d1400685f98ee512c75d4a": {
          "model_module": "@jupyter-widgets/base",
          "model_name": "LayoutModel",
          "state": {
            "_view_name": "LayoutView",
            "grid_template_rows": null,
            "right": null,
            "justify_content": null,
            "_view_module": "@jupyter-widgets/base",
            "overflow": null,
            "_model_module_version": "1.2.0",
            "_view_count": null,
            "flex_flow": null,
            "width": null,
            "min_width": null,
            "border": null,
            "align_items": null,
            "bottom": null,
            "_model_module": "@jupyter-widgets/base",
            "top": null,
            "grid_column": null,
            "overflow_y": null,
            "overflow_x": null,
            "grid_auto_flow": null,
            "grid_area": null,
            "grid_template_columns": null,
            "flex": null,
            "_model_name": "LayoutModel",
            "justify_items": null,
            "grid_row": null,
            "max_height": null,
            "align_content": null,
            "visibility": null,
            "align_self": null,
            "height": null,
            "min_height": null,
            "padding": null,
            "grid_auto_rows": null,
            "grid_gap": null,
            "max_width": null,
            "order": null,
            "_view_module_version": "1.2.0",
            "grid_template_areas": null,
            "object_position": null,
            "object_fit": null,
            "grid_auto_columns": null,
            "margin": null,
            "display": null,
            "left": null
          }
        },
        "11e311eca9144d649ba94728cad67fe0": {
          "model_module": "@jupyter-widgets/controls",
          "model_name": "FloatProgressModel",
          "state": {
            "_view_name": "ProgressView",
            "style": "IPY_MODEL_caf7c3576e2e4655a9fdb0532f628f22",
            "_dom_classes": [],
            "description": "  5%",
            "_model_name": "FloatProgressModel",
            "bar_style": "danger",
            "max": 200,
            "_view_module": "@jupyter-widgets/controls",
            "_model_module_version": "1.5.0",
            "value": 10,
            "_view_count": null,
            "_view_module_version": "1.5.0",
            "orientation": "horizontal",
            "min": 0,
            "description_tooltip": null,
            "_model_module": "@jupyter-widgets/controls",
            "layout": "IPY_MODEL_62eaa49bd76f41b2b3f8f1aa7dc88787"
          }
        },
        "7c5d97fa8f414c8583cb2880da8abe44": {
          "model_module": "@jupyter-widgets/controls",
          "model_name": "HTMLModel",
          "state": {
            "_view_name": "HTMLView",
            "style": "IPY_MODEL_8f3d5c756fba4b469213941b81285fdd",
            "_dom_classes": [],
            "description": "",
            "_model_name": "HTMLModel",
            "placeholder": "​",
            "_view_module": "@jupyter-widgets/controls",
            "_model_module_version": "1.5.0",
            "value": " 10/200 [00:14&lt;04:26,  1.40s/epoch, loss=0.613, accuracy=0.769, f1=0.769, val_loss=0.497, val_accuracy=0.732, val_f1=0.73]",
            "_view_count": null,
            "_view_module_version": "1.5.0",
            "description_tooltip": null,
            "_model_module": "@jupyter-widgets/controls",
            "layout": "IPY_MODEL_e37e91d1332b489b84e7e61bebbdfe99"
          }
        },
        "caf7c3576e2e4655a9fdb0532f628f22": {
          "model_module": "@jupyter-widgets/controls",
          "model_name": "ProgressStyleModel",
          "state": {
            "_view_name": "StyleView",
            "_model_name": "ProgressStyleModel",
            "description_width": "initial",
            "_view_module": "@jupyter-widgets/base",
            "_model_module_version": "1.5.0",
            "_view_count": null,
            "_view_module_version": "1.2.0",
            "bar_color": null,
            "_model_module": "@jupyter-widgets/controls"
          }
        },
        "62eaa49bd76f41b2b3f8f1aa7dc88787": {
          "model_module": "@jupyter-widgets/base",
          "model_name": "LayoutModel",
          "state": {
            "_view_name": "LayoutView",
            "grid_template_rows": null,
            "right": null,
            "justify_content": null,
            "_view_module": "@jupyter-widgets/base",
            "overflow": null,
            "_model_module_version": "1.2.0",
            "_view_count": null,
            "flex_flow": null,
            "width": null,
            "min_width": null,
            "border": null,
            "align_items": null,
            "bottom": null,
            "_model_module": "@jupyter-widgets/base",
            "top": null,
            "grid_column": null,
            "overflow_y": null,
            "overflow_x": null,
            "grid_auto_flow": null,
            "grid_area": null,
            "grid_template_columns": null,
            "flex": null,
            "_model_name": "LayoutModel",
            "justify_items": null,
            "grid_row": null,
            "max_height": null,
            "align_content": null,
            "visibility": null,
            "align_self": null,
            "height": null,
            "min_height": null,
            "padding": null,
            "grid_auto_rows": null,
            "grid_gap": null,
            "max_width": null,
            "order": null,
            "_view_module_version": "1.2.0",
            "grid_template_areas": null,
            "object_position": null,
            "object_fit": null,
            "grid_auto_columns": null,
            "margin": null,
            "display": null,
            "left": null
          }
        },
        "8f3d5c756fba4b469213941b81285fdd": {
          "model_module": "@jupyter-widgets/controls",
          "model_name": "DescriptionStyleModel",
          "state": {
            "_view_name": "StyleView",
            "_model_name": "DescriptionStyleModel",
            "description_width": "",
            "_view_module": "@jupyter-widgets/base",
            "_model_module_version": "1.5.0",
            "_view_count": null,
            "_view_module_version": "1.2.0",
            "_model_module": "@jupyter-widgets/controls"
          }
        },
        "e37e91d1332b489b84e7e61bebbdfe99": {
          "model_module": "@jupyter-widgets/base",
          "model_name": "LayoutModel",
          "state": {
            "_view_name": "LayoutView",
            "grid_template_rows": null,
            "right": null,
            "justify_content": null,
            "_view_module": "@jupyter-widgets/base",
            "overflow": null,
            "_model_module_version": "1.2.0",
            "_view_count": null,
            "flex_flow": null,
            "width": null,
            "min_width": null,
            "border": null,
            "align_items": null,
            "bottom": null,
            "_model_module": "@jupyter-widgets/base",
            "top": null,
            "grid_column": null,
            "overflow_y": null,
            "overflow_x": null,
            "grid_auto_flow": null,
            "grid_area": null,
            "grid_template_columns": null,
            "flex": null,
            "_model_name": "LayoutModel",
            "justify_items": null,
            "grid_row": null,
            "max_height": null,
            "align_content": null,
            "visibility": null,
            "align_self": null,
            "height": null,
            "min_height": null,
            "padding": null,
            "grid_auto_rows": null,
            "grid_gap": null,
            "max_width": null,
            "order": null,
            "_view_module_version": "1.2.0",
            "grid_template_areas": null,
            "object_position": null,
            "object_fit": null,
            "grid_auto_columns": null,
            "margin": null,
            "display": null,
            "left": null
          }
        },
        "fc10dfb172b3443d8799a43fc2f85be7": {
          "model_module": "@jupyter-widgets/controls",
          "model_name": "HBoxModel",
          "state": {
            "_view_name": "HBoxView",
            "_dom_classes": [],
            "_model_name": "HBoxModel",
            "_view_module": "@jupyter-widgets/controls",
            "_model_module_version": "1.5.0",
            "_view_count": null,
            "_view_module_version": "1.5.0",
            "box_style": "",
            "layout": "IPY_MODEL_d1779d6a1b754d27be26d91923a88213",
            "_model_module": "@jupyter-widgets/controls",
            "children": [
              "IPY_MODEL_e97ea4183e774270b6761839ad634b24",
              "IPY_MODEL_b2476ba4bcf644c8b150de1f9b276bb3"
            ]
          }
        },
        "d1779d6a1b754d27be26d91923a88213": {
          "model_module": "@jupyter-widgets/base",
          "model_name": "LayoutModel",
          "state": {
            "_view_name": "LayoutView",
            "grid_template_rows": null,
            "right": null,
            "justify_content": null,
            "_view_module": "@jupyter-widgets/base",
            "overflow": null,
            "_model_module_version": "1.2.0",
            "_view_count": null,
            "flex_flow": null,
            "width": null,
            "min_width": null,
            "border": null,
            "align_items": null,
            "bottom": null,
            "_model_module": "@jupyter-widgets/base",
            "top": null,
            "grid_column": null,
            "overflow_y": null,
            "overflow_x": null,
            "grid_auto_flow": null,
            "grid_area": null,
            "grid_template_columns": null,
            "flex": null,
            "_model_name": "LayoutModel",
            "justify_items": null,
            "grid_row": null,
            "max_height": null,
            "align_content": null,
            "visibility": null,
            "align_self": null,
            "height": null,
            "min_height": null,
            "padding": null,
            "grid_auto_rows": null,
            "grid_gap": null,
            "max_width": null,
            "order": null,
            "_view_module_version": "1.2.0",
            "grid_template_areas": null,
            "object_position": null,
            "object_fit": null,
            "grid_auto_columns": null,
            "margin": null,
            "display": null,
            "left": null
          }
        },
        "e97ea4183e774270b6761839ad634b24": {
          "model_module": "@jupyter-widgets/controls",
          "model_name": "FloatProgressModel",
          "state": {
            "_view_name": "ProgressView",
            "style": "IPY_MODEL_4b6915296f4842bd8e16158183fd189f",
            "_dom_classes": [],
            "description": "  9%",
            "_model_name": "FloatProgressModel",
            "bar_style": "danger",
            "max": 200,
            "_view_module": "@jupyter-widgets/controls",
            "_model_module_version": "1.5.0",
            "value": 18,
            "_view_count": null,
            "_view_module_version": "1.5.0",
            "orientation": "horizontal",
            "min": 0,
            "description_tooltip": null,
            "_model_module": "@jupyter-widgets/controls",
            "layout": "IPY_MODEL_d191f3a305a9492ebaa5b762773620a3"
          }
        },
        "b2476ba4bcf644c8b150de1f9b276bb3": {
          "model_module": "@jupyter-widgets/controls",
          "model_name": "HTMLModel",
          "state": {
            "_view_name": "HTMLView",
            "style": "IPY_MODEL_bdc70ef5d7bd4f84bee203a8b15ad6dc",
            "_dom_classes": [],
            "description": "",
            "_model_name": "HTMLModel",
            "placeholder": "​",
            "_view_module": "@jupyter-widgets/controls",
            "_model_module_version": "1.5.0",
            "value": " 18/200 [01:36&lt;16:18,  5.38s/epoch, loss=0.395, accuracy=0.829, f1=0.829, val_loss=0.593, val_accuracy=0.768, val_f1=0.778]",
            "_view_count": null,
            "_view_module_version": "1.5.0",
            "description_tooltip": null,
            "_model_module": "@jupyter-widgets/controls",
            "layout": "IPY_MODEL_d77f7796746242e8ae98ce918262e753"
          }
        },
        "4b6915296f4842bd8e16158183fd189f": {
          "model_module": "@jupyter-widgets/controls",
          "model_name": "ProgressStyleModel",
          "state": {
            "_view_name": "StyleView",
            "_model_name": "ProgressStyleModel",
            "description_width": "initial",
            "_view_module": "@jupyter-widgets/base",
            "_model_module_version": "1.5.0",
            "_view_count": null,
            "_view_module_version": "1.2.0",
            "bar_color": null,
            "_model_module": "@jupyter-widgets/controls"
          }
        },
        "d191f3a305a9492ebaa5b762773620a3": {
          "model_module": "@jupyter-widgets/base",
          "model_name": "LayoutModel",
          "state": {
            "_view_name": "LayoutView",
            "grid_template_rows": null,
            "right": null,
            "justify_content": null,
            "_view_module": "@jupyter-widgets/base",
            "overflow": null,
            "_model_module_version": "1.2.0",
            "_view_count": null,
            "flex_flow": null,
            "width": null,
            "min_width": null,
            "border": null,
            "align_items": null,
            "bottom": null,
            "_model_module": "@jupyter-widgets/base",
            "top": null,
            "grid_column": null,
            "overflow_y": null,
            "overflow_x": null,
            "grid_auto_flow": null,
            "grid_area": null,
            "grid_template_columns": null,
            "flex": null,
            "_model_name": "LayoutModel",
            "justify_items": null,
            "grid_row": null,
            "max_height": null,
            "align_content": null,
            "visibility": null,
            "align_self": null,
            "height": null,
            "min_height": null,
            "padding": null,
            "grid_auto_rows": null,
            "grid_gap": null,
            "max_width": null,
            "order": null,
            "_view_module_version": "1.2.0",
            "grid_template_areas": null,
            "object_position": null,
            "object_fit": null,
            "grid_auto_columns": null,
            "margin": null,
            "display": null,
            "left": null
          }
        },
        "bdc70ef5d7bd4f84bee203a8b15ad6dc": {
          "model_module": "@jupyter-widgets/controls",
          "model_name": "DescriptionStyleModel",
          "state": {
            "_view_name": "StyleView",
            "_model_name": "DescriptionStyleModel",
            "description_width": "",
            "_view_module": "@jupyter-widgets/base",
            "_model_module_version": "1.5.0",
            "_view_count": null,
            "_view_module_version": "1.2.0",
            "_model_module": "@jupyter-widgets/controls"
          }
        },
        "d77f7796746242e8ae98ce918262e753": {
          "model_module": "@jupyter-widgets/base",
          "model_name": "LayoutModel",
          "state": {
            "_view_name": "LayoutView",
            "grid_template_rows": null,
            "right": null,
            "justify_content": null,
            "_view_module": "@jupyter-widgets/base",
            "overflow": null,
            "_model_module_version": "1.2.0",
            "_view_count": null,
            "flex_flow": null,
            "width": null,
            "min_width": null,
            "border": null,
            "align_items": null,
            "bottom": null,
            "_model_module": "@jupyter-widgets/base",
            "top": null,
            "grid_column": null,
            "overflow_y": null,
            "overflow_x": null,
            "grid_auto_flow": null,
            "grid_area": null,
            "grid_template_columns": null,
            "flex": null,
            "_model_name": "LayoutModel",
            "justify_items": null,
            "grid_row": null,
            "max_height": null,
            "align_content": null,
            "visibility": null,
            "align_self": null,
            "height": null,
            "min_height": null,
            "padding": null,
            "grid_auto_rows": null,
            "grid_gap": null,
            "max_width": null,
            "order": null,
            "_view_module_version": "1.2.0",
            "grid_template_areas": null,
            "object_position": null,
            "object_fit": null,
            "grid_auto_columns": null,
            "margin": null,
            "display": null,
            "left": null
          }
        },
        "a082c254e426456fac099e133f20a2ef": {
          "model_module": "@jupyter-widgets/controls",
          "model_name": "HBoxModel",
          "state": {
            "_view_name": "HBoxView",
            "_dom_classes": [],
            "_model_name": "HBoxModel",
            "_view_module": "@jupyter-widgets/controls",
            "_model_module_version": "1.5.0",
            "_view_count": null,
            "_view_module_version": "1.5.0",
            "box_style": "",
            "layout": "IPY_MODEL_cea892911c3f4a7f9d13c88b45dd94fb",
            "_model_module": "@jupyter-widgets/controls",
            "children": [
              "IPY_MODEL_38728d0589e2405291752d93fd860c1e",
              "IPY_MODEL_11a4ec14118346c9952ecceb64a9ea92"
            ]
          }
        },
        "cea892911c3f4a7f9d13c88b45dd94fb": {
          "model_module": "@jupyter-widgets/base",
          "model_name": "LayoutModel",
          "state": {
            "_view_name": "LayoutView",
            "grid_template_rows": null,
            "right": null,
            "justify_content": null,
            "_view_module": "@jupyter-widgets/base",
            "overflow": null,
            "_model_module_version": "1.2.0",
            "_view_count": null,
            "flex_flow": null,
            "width": null,
            "min_width": null,
            "border": null,
            "align_items": null,
            "bottom": null,
            "_model_module": "@jupyter-widgets/base",
            "top": null,
            "grid_column": null,
            "overflow_y": null,
            "overflow_x": null,
            "grid_auto_flow": null,
            "grid_area": null,
            "grid_template_columns": null,
            "flex": null,
            "_model_name": "LayoutModel",
            "justify_items": null,
            "grid_row": null,
            "max_height": null,
            "align_content": null,
            "visibility": null,
            "align_self": null,
            "height": null,
            "min_height": null,
            "padding": null,
            "grid_auto_rows": null,
            "grid_gap": null,
            "max_width": null,
            "order": null,
            "_view_module_version": "1.2.0",
            "grid_template_areas": null,
            "object_position": null,
            "object_fit": null,
            "grid_auto_columns": null,
            "margin": null,
            "display": null,
            "left": null
          }
        },
        "38728d0589e2405291752d93fd860c1e": {
          "model_module": "@jupyter-widgets/controls",
          "model_name": "FloatProgressModel",
          "state": {
            "_view_name": "ProgressView",
            "style": "IPY_MODEL_6096c3132e7c4224b86bed126eab97bf",
            "_dom_classes": [],
            "description": "  9%",
            "_model_name": "FloatProgressModel",
            "bar_style": "danger",
            "max": 200,
            "_view_module": "@jupyter-widgets/controls",
            "_model_module_version": "1.5.0",
            "value": 18,
            "_view_count": null,
            "_view_module_version": "1.5.0",
            "orientation": "horizontal",
            "min": 0,
            "description_tooltip": null,
            "_model_module": "@jupyter-widgets/controls",
            "layout": "IPY_MODEL_68a88fd752c64449964d5803d7a03495"
          }
        },
        "11a4ec14118346c9952ecceb64a9ea92": {
          "model_module": "@jupyter-widgets/controls",
          "model_name": "HTMLModel",
          "state": {
            "_view_name": "HTMLView",
            "style": "IPY_MODEL_2b74828f164740949cbeb5e809d233a9",
            "_dom_classes": [],
            "description": "",
            "_model_name": "HTMLModel",
            "placeholder": "​",
            "_view_module": "@jupyter-widgets/controls",
            "_model_module_version": "1.5.0",
            "value": " 18/200 [01:14&lt;12:32,  4.13s/epoch, loss=0.473, accuracy=0.773, f1=0.773, val_loss=0.561, val_accuracy=0.707, val_f1=0.709]",
            "_view_count": null,
            "_view_module_version": "1.5.0",
            "description_tooltip": null,
            "_model_module": "@jupyter-widgets/controls",
            "layout": "IPY_MODEL_63d9787dcc5b4c3db0b90c5af75e0832"
          }
        },
        "6096c3132e7c4224b86bed126eab97bf": {
          "model_module": "@jupyter-widgets/controls",
          "model_name": "ProgressStyleModel",
          "state": {
            "_view_name": "StyleView",
            "_model_name": "ProgressStyleModel",
            "description_width": "initial",
            "_view_module": "@jupyter-widgets/base",
            "_model_module_version": "1.5.0",
            "_view_count": null,
            "_view_module_version": "1.2.0",
            "bar_color": null,
            "_model_module": "@jupyter-widgets/controls"
          }
        },
        "68a88fd752c64449964d5803d7a03495": {
          "model_module": "@jupyter-widgets/base",
          "model_name": "LayoutModel",
          "state": {
            "_view_name": "LayoutView",
            "grid_template_rows": null,
            "right": null,
            "justify_content": null,
            "_view_module": "@jupyter-widgets/base",
            "overflow": null,
            "_model_module_version": "1.2.0",
            "_view_count": null,
            "flex_flow": null,
            "width": null,
            "min_width": null,
            "border": null,
            "align_items": null,
            "bottom": null,
            "_model_module": "@jupyter-widgets/base",
            "top": null,
            "grid_column": null,
            "overflow_y": null,
            "overflow_x": null,
            "grid_auto_flow": null,
            "grid_area": null,
            "grid_template_columns": null,
            "flex": null,
            "_model_name": "LayoutModel",
            "justify_items": null,
            "grid_row": null,
            "max_height": null,
            "align_content": null,
            "visibility": null,
            "align_self": null,
            "height": null,
            "min_height": null,
            "padding": null,
            "grid_auto_rows": null,
            "grid_gap": null,
            "max_width": null,
            "order": null,
            "_view_module_version": "1.2.0",
            "grid_template_areas": null,
            "object_position": null,
            "object_fit": null,
            "grid_auto_columns": null,
            "margin": null,
            "display": null,
            "left": null
          }
        },
        "2b74828f164740949cbeb5e809d233a9": {
          "model_module": "@jupyter-widgets/controls",
          "model_name": "DescriptionStyleModel",
          "state": {
            "_view_name": "StyleView",
            "_model_name": "DescriptionStyleModel",
            "description_width": "",
            "_view_module": "@jupyter-widgets/base",
            "_model_module_version": "1.5.0",
            "_view_count": null,
            "_view_module_version": "1.2.0",
            "_model_module": "@jupyter-widgets/controls"
          }
        },
        "63d9787dcc5b4c3db0b90c5af75e0832": {
          "model_module": "@jupyter-widgets/base",
          "model_name": "LayoutModel",
          "state": {
            "_view_name": "LayoutView",
            "grid_template_rows": null,
            "right": null,
            "justify_content": null,
            "_view_module": "@jupyter-widgets/base",
            "overflow": null,
            "_model_module_version": "1.2.0",
            "_view_count": null,
            "flex_flow": null,
            "width": null,
            "min_width": null,
            "border": null,
            "align_items": null,
            "bottom": null,
            "_model_module": "@jupyter-widgets/base",
            "top": null,
            "grid_column": null,
            "overflow_y": null,
            "overflow_x": null,
            "grid_auto_flow": null,
            "grid_area": null,
            "grid_template_columns": null,
            "flex": null,
            "_model_name": "LayoutModel",
            "justify_items": null,
            "grid_row": null,
            "max_height": null,
            "align_content": null,
            "visibility": null,
            "align_self": null,
            "height": null,
            "min_height": null,
            "padding": null,
            "grid_auto_rows": null,
            "grid_gap": null,
            "max_width": null,
            "order": null,
            "_view_module_version": "1.2.0",
            "grid_template_areas": null,
            "object_position": null,
            "object_fit": null,
            "grid_auto_columns": null,
            "margin": null,
            "display": null,
            "left": null
          }
        },
        "86aa13b09fa64c61a34b4bfb552704fc": {
          "model_module": "@jupyter-widgets/controls",
          "model_name": "HBoxModel",
          "state": {
            "_view_name": "HBoxView",
            "_dom_classes": [],
            "_model_name": "HBoxModel",
            "_view_module": "@jupyter-widgets/controls",
            "_model_module_version": "1.5.0",
            "_view_count": null,
            "_view_module_version": "1.5.0",
            "box_style": "",
            "layout": "IPY_MODEL_396e9ad2df5a43ae81f7f0926c7e86b8",
            "_model_module": "@jupyter-widgets/controls",
            "children": [
              "IPY_MODEL_e4d01c48cbd8426dafeeb180a8e741d2",
              "IPY_MODEL_117813756ed94f17bc09a537ce7320dd"
            ]
          }
        },
        "396e9ad2df5a43ae81f7f0926c7e86b8": {
          "model_module": "@jupyter-widgets/base",
          "model_name": "LayoutModel",
          "state": {
            "_view_name": "LayoutView",
            "grid_template_rows": null,
            "right": null,
            "justify_content": null,
            "_view_module": "@jupyter-widgets/base",
            "overflow": null,
            "_model_module_version": "1.2.0",
            "_view_count": null,
            "flex_flow": null,
            "width": null,
            "min_width": null,
            "border": null,
            "align_items": null,
            "bottom": null,
            "_model_module": "@jupyter-widgets/base",
            "top": null,
            "grid_column": null,
            "overflow_y": null,
            "overflow_x": null,
            "grid_auto_flow": null,
            "grid_area": null,
            "grid_template_columns": null,
            "flex": null,
            "_model_name": "LayoutModel",
            "justify_items": null,
            "grid_row": null,
            "max_height": null,
            "align_content": null,
            "visibility": null,
            "align_self": null,
            "height": null,
            "min_height": null,
            "padding": null,
            "grid_auto_rows": null,
            "grid_gap": null,
            "max_width": null,
            "order": null,
            "_view_module_version": "1.2.0",
            "grid_template_areas": null,
            "object_position": null,
            "object_fit": null,
            "grid_auto_columns": null,
            "margin": null,
            "display": null,
            "left": null
          }
        },
        "e4d01c48cbd8426dafeeb180a8e741d2": {
          "model_module": "@jupyter-widgets/controls",
          "model_name": "FloatProgressModel",
          "state": {
            "_view_name": "ProgressView",
            "style": "IPY_MODEL_80b8369f94954743a31c74e281629a70",
            "_dom_classes": [],
            "description": "  8%",
            "_model_name": "FloatProgressModel",
            "bar_style": "danger",
            "max": 200,
            "_view_module": "@jupyter-widgets/controls",
            "_model_module_version": "1.5.0",
            "value": 16,
            "_view_count": null,
            "_view_module_version": "1.5.0",
            "orientation": "horizontal",
            "min": 0,
            "description_tooltip": null,
            "_model_module": "@jupyter-widgets/controls",
            "layout": "IPY_MODEL_af49ca83884246f49518e77e52e45d3b"
          }
        },
        "117813756ed94f17bc09a537ce7320dd": {
          "model_module": "@jupyter-widgets/controls",
          "model_name": "HTMLModel",
          "state": {
            "_view_name": "HTMLView",
            "style": "IPY_MODEL_72fbdc0d843a4582a0813f9d3700677e",
            "_dom_classes": [],
            "description": "",
            "_model_name": "HTMLModel",
            "placeholder": "​",
            "_view_module": "@jupyter-widgets/controls",
            "_model_module_version": "1.5.0",
            "value": " 16/200 [00:52&lt;10:00,  3.26s/epoch, loss=0.454, accuracy=0.783, f1=0.784, val_loss=0.784, val_accuracy=0.642, val_f1=0.624]",
            "_view_count": null,
            "_view_module_version": "1.5.0",
            "description_tooltip": null,
            "_model_module": "@jupyter-widgets/controls",
            "layout": "IPY_MODEL_8cc0b56bfad7490c8533f97a26f60cbe"
          }
        },
        "80b8369f94954743a31c74e281629a70": {
          "model_module": "@jupyter-widgets/controls",
          "model_name": "ProgressStyleModel",
          "state": {
            "_view_name": "StyleView",
            "_model_name": "ProgressStyleModel",
            "description_width": "initial",
            "_view_module": "@jupyter-widgets/base",
            "_model_module_version": "1.5.0",
            "_view_count": null,
            "_view_module_version": "1.2.0",
            "bar_color": null,
            "_model_module": "@jupyter-widgets/controls"
          }
        },
        "af49ca83884246f49518e77e52e45d3b": {
          "model_module": "@jupyter-widgets/base",
          "model_name": "LayoutModel",
          "state": {
            "_view_name": "LayoutView",
            "grid_template_rows": null,
            "right": null,
            "justify_content": null,
            "_view_module": "@jupyter-widgets/base",
            "overflow": null,
            "_model_module_version": "1.2.0",
            "_view_count": null,
            "flex_flow": null,
            "width": null,
            "min_width": null,
            "border": null,
            "align_items": null,
            "bottom": null,
            "_model_module": "@jupyter-widgets/base",
            "top": null,
            "grid_column": null,
            "overflow_y": null,
            "overflow_x": null,
            "grid_auto_flow": null,
            "grid_area": null,
            "grid_template_columns": null,
            "flex": null,
            "_model_name": "LayoutModel",
            "justify_items": null,
            "grid_row": null,
            "max_height": null,
            "align_content": null,
            "visibility": null,
            "align_self": null,
            "height": null,
            "min_height": null,
            "padding": null,
            "grid_auto_rows": null,
            "grid_gap": null,
            "max_width": null,
            "order": null,
            "_view_module_version": "1.2.0",
            "grid_template_areas": null,
            "object_position": null,
            "object_fit": null,
            "grid_auto_columns": null,
            "margin": null,
            "display": null,
            "left": null
          }
        },
        "72fbdc0d843a4582a0813f9d3700677e": {
          "model_module": "@jupyter-widgets/controls",
          "model_name": "DescriptionStyleModel",
          "state": {
            "_view_name": "StyleView",
            "_model_name": "DescriptionStyleModel",
            "description_width": "",
            "_view_module": "@jupyter-widgets/base",
            "_model_module_version": "1.5.0",
            "_view_count": null,
            "_view_module_version": "1.2.0",
            "_model_module": "@jupyter-widgets/controls"
          }
        },
        "8cc0b56bfad7490c8533f97a26f60cbe": {
          "model_module": "@jupyter-widgets/base",
          "model_name": "LayoutModel",
          "state": {
            "_view_name": "LayoutView",
            "grid_template_rows": null,
            "right": null,
            "justify_content": null,
            "_view_module": "@jupyter-widgets/base",
            "overflow": null,
            "_model_module_version": "1.2.0",
            "_view_count": null,
            "flex_flow": null,
            "width": null,
            "min_width": null,
            "border": null,
            "align_items": null,
            "bottom": null,
            "_model_module": "@jupyter-widgets/base",
            "top": null,
            "grid_column": null,
            "overflow_y": null,
            "overflow_x": null,
            "grid_auto_flow": null,
            "grid_area": null,
            "grid_template_columns": null,
            "flex": null,
            "_model_name": "LayoutModel",
            "justify_items": null,
            "grid_row": null,
            "max_height": null,
            "align_content": null,
            "visibility": null,
            "align_self": null,
            "height": null,
            "min_height": null,
            "padding": null,
            "grid_auto_rows": null,
            "grid_gap": null,
            "max_width": null,
            "order": null,
            "_view_module_version": "1.2.0",
            "grid_template_areas": null,
            "object_position": null,
            "object_fit": null,
            "grid_auto_columns": null,
            "margin": null,
            "display": null,
            "left": null
          }
        },
        "22b84e71612d40c3980fb7a672a710e0": {
          "model_module": "@jupyter-widgets/controls",
          "model_name": "HBoxModel",
          "state": {
            "_view_name": "HBoxView",
            "_dom_classes": [],
            "_model_name": "HBoxModel",
            "_view_module": "@jupyter-widgets/controls",
            "_model_module_version": "1.5.0",
            "_view_count": null,
            "_view_module_version": "1.5.0",
            "box_style": "",
            "layout": "IPY_MODEL_834b4121f3184efc8630fe7fc9db9c66",
            "_model_module": "@jupyter-widgets/controls",
            "children": [
              "IPY_MODEL_873cbcf655f64dfe98630e2080a205dc",
              "IPY_MODEL_e06e6f270eb744eeac1e5f8ba8b6017c"
            ]
          }
        },
        "834b4121f3184efc8630fe7fc9db9c66": {
          "model_module": "@jupyter-widgets/base",
          "model_name": "LayoutModel",
          "state": {
            "_view_name": "LayoutView",
            "grid_template_rows": null,
            "right": null,
            "justify_content": null,
            "_view_module": "@jupyter-widgets/base",
            "overflow": null,
            "_model_module_version": "1.2.0",
            "_view_count": null,
            "flex_flow": null,
            "width": null,
            "min_width": null,
            "border": null,
            "align_items": null,
            "bottom": null,
            "_model_module": "@jupyter-widgets/base",
            "top": null,
            "grid_column": null,
            "overflow_y": null,
            "overflow_x": null,
            "grid_auto_flow": null,
            "grid_area": null,
            "grid_template_columns": null,
            "flex": null,
            "_model_name": "LayoutModel",
            "justify_items": null,
            "grid_row": null,
            "max_height": null,
            "align_content": null,
            "visibility": null,
            "align_self": null,
            "height": null,
            "min_height": null,
            "padding": null,
            "grid_auto_rows": null,
            "grid_gap": null,
            "max_width": null,
            "order": null,
            "_view_module_version": "1.2.0",
            "grid_template_areas": null,
            "object_position": null,
            "object_fit": null,
            "grid_auto_columns": null,
            "margin": null,
            "display": null,
            "left": null
          }
        },
        "873cbcf655f64dfe98630e2080a205dc": {
          "model_module": "@jupyter-widgets/controls",
          "model_name": "FloatProgressModel",
          "state": {
            "_view_name": "ProgressView",
            "style": "IPY_MODEL_49219821ae334b61ae2a812350f69b1e",
            "_dom_classes": [],
            "description": "  6%",
            "_model_name": "FloatProgressModel",
            "bar_style": "danger",
            "max": 200,
            "_view_module": "@jupyter-widgets/controls",
            "_model_module_version": "1.5.0",
            "value": 12,
            "_view_count": null,
            "_view_module_version": "1.5.0",
            "orientation": "horizontal",
            "min": 0,
            "description_tooltip": null,
            "_model_module": "@jupyter-widgets/controls",
            "layout": "IPY_MODEL_fb34eef7af0c4619800bc4e4fe5ec969"
          }
        },
        "e06e6f270eb744eeac1e5f8ba8b6017c": {
          "model_module": "@jupyter-widgets/controls",
          "model_name": "HTMLModel",
          "state": {
            "_view_name": "HTMLView",
            "style": "IPY_MODEL_86c0d947f4df438f8d1951a3200d77f4",
            "_dom_classes": [],
            "description": "",
            "_model_name": "HTMLModel",
            "placeholder": "​",
            "_view_module": "@jupyter-widgets/controls",
            "_model_module_version": "1.5.0",
            "value": " 12/200 [00:32&lt;08:21,  2.67s/epoch, loss=0.58, accuracy=0.765, f1=0.765, val_loss=0.912, val_accuracy=0.654, val_f1=0.662]",
            "_view_count": null,
            "_view_module_version": "1.5.0",
            "description_tooltip": null,
            "_model_module": "@jupyter-widgets/controls",
            "layout": "IPY_MODEL_490fbc90361941d9b7e5a051187c32ca"
          }
        },
        "49219821ae334b61ae2a812350f69b1e": {
          "model_module": "@jupyter-widgets/controls",
          "model_name": "ProgressStyleModel",
          "state": {
            "_view_name": "StyleView",
            "_model_name": "ProgressStyleModel",
            "description_width": "initial",
            "_view_module": "@jupyter-widgets/base",
            "_model_module_version": "1.5.0",
            "_view_count": null,
            "_view_module_version": "1.2.0",
            "bar_color": null,
            "_model_module": "@jupyter-widgets/controls"
          }
        },
        "fb34eef7af0c4619800bc4e4fe5ec969": {
          "model_module": "@jupyter-widgets/base",
          "model_name": "LayoutModel",
          "state": {
            "_view_name": "LayoutView",
            "grid_template_rows": null,
            "right": null,
            "justify_content": null,
            "_view_module": "@jupyter-widgets/base",
            "overflow": null,
            "_model_module_version": "1.2.0",
            "_view_count": null,
            "flex_flow": null,
            "width": null,
            "min_width": null,
            "border": null,
            "align_items": null,
            "bottom": null,
            "_model_module": "@jupyter-widgets/base",
            "top": null,
            "grid_column": null,
            "overflow_y": null,
            "overflow_x": null,
            "grid_auto_flow": null,
            "grid_area": null,
            "grid_template_columns": null,
            "flex": null,
            "_model_name": "LayoutModel",
            "justify_items": null,
            "grid_row": null,
            "max_height": null,
            "align_content": null,
            "visibility": null,
            "align_self": null,
            "height": null,
            "min_height": null,
            "padding": null,
            "grid_auto_rows": null,
            "grid_gap": null,
            "max_width": null,
            "order": null,
            "_view_module_version": "1.2.0",
            "grid_template_areas": null,
            "object_position": null,
            "object_fit": null,
            "grid_auto_columns": null,
            "margin": null,
            "display": null,
            "left": null
          }
        },
        "86c0d947f4df438f8d1951a3200d77f4": {
          "model_module": "@jupyter-widgets/controls",
          "model_name": "DescriptionStyleModel",
          "state": {
            "_view_name": "StyleView",
            "_model_name": "DescriptionStyleModel",
            "description_width": "",
            "_view_module": "@jupyter-widgets/base",
            "_model_module_version": "1.5.0",
            "_view_count": null,
            "_view_module_version": "1.2.0",
            "_model_module": "@jupyter-widgets/controls"
          }
        },
        "490fbc90361941d9b7e5a051187c32ca": {
          "model_module": "@jupyter-widgets/base",
          "model_name": "LayoutModel",
          "state": {
            "_view_name": "LayoutView",
            "grid_template_rows": null,
            "right": null,
            "justify_content": null,
            "_view_module": "@jupyter-widgets/base",
            "overflow": null,
            "_model_module_version": "1.2.0",
            "_view_count": null,
            "flex_flow": null,
            "width": null,
            "min_width": null,
            "border": null,
            "align_items": null,
            "bottom": null,
            "_model_module": "@jupyter-widgets/base",
            "top": null,
            "grid_column": null,
            "overflow_y": null,
            "overflow_x": null,
            "grid_auto_flow": null,
            "grid_area": null,
            "grid_template_columns": null,
            "flex": null,
            "_model_name": "LayoutModel",
            "justify_items": null,
            "grid_row": null,
            "max_height": null,
            "align_content": null,
            "visibility": null,
            "align_self": null,
            "height": null,
            "min_height": null,
            "padding": null,
            "grid_auto_rows": null,
            "grid_gap": null,
            "max_width": null,
            "order": null,
            "_view_module_version": "1.2.0",
            "grid_template_areas": null,
            "object_position": null,
            "object_fit": null,
            "grid_auto_columns": null,
            "margin": null,
            "display": null,
            "left": null
          }
        },
        "1e3475b8514a43caaca395220c99a97a": {
          "model_module": "@jupyter-widgets/controls",
          "model_name": "HBoxModel",
          "state": {
            "_view_name": "HBoxView",
            "_dom_classes": [],
            "_model_name": "HBoxModel",
            "_view_module": "@jupyter-widgets/controls",
            "_model_module_version": "1.5.0",
            "_view_count": null,
            "_view_module_version": "1.5.0",
            "box_style": "",
            "layout": "IPY_MODEL_39eb54e2913549fba7ff8189b22d93aa",
            "_model_module": "@jupyter-widgets/controls",
            "children": [
              "IPY_MODEL_9ea9755d90714ee18760f3827797a4a6",
              "IPY_MODEL_dac89cbb4afe47c984cb9fa948c36e01"
            ]
          }
        },
        "39eb54e2913549fba7ff8189b22d93aa": {
          "model_module": "@jupyter-widgets/base",
          "model_name": "LayoutModel",
          "state": {
            "_view_name": "LayoutView",
            "grid_template_rows": null,
            "right": null,
            "justify_content": null,
            "_view_module": "@jupyter-widgets/base",
            "overflow": null,
            "_model_module_version": "1.2.0",
            "_view_count": null,
            "flex_flow": null,
            "width": null,
            "min_width": null,
            "border": null,
            "align_items": null,
            "bottom": null,
            "_model_module": "@jupyter-widgets/base",
            "top": null,
            "grid_column": null,
            "overflow_y": null,
            "overflow_x": null,
            "grid_auto_flow": null,
            "grid_area": null,
            "grid_template_columns": null,
            "flex": null,
            "_model_name": "LayoutModel",
            "justify_items": null,
            "grid_row": null,
            "max_height": null,
            "align_content": null,
            "visibility": null,
            "align_self": null,
            "height": null,
            "min_height": null,
            "padding": null,
            "grid_auto_rows": null,
            "grid_gap": null,
            "max_width": null,
            "order": null,
            "_view_module_version": "1.2.0",
            "grid_template_areas": null,
            "object_position": null,
            "object_fit": null,
            "grid_auto_columns": null,
            "margin": null,
            "display": null,
            "left": null
          }
        },
        "9ea9755d90714ee18760f3827797a4a6": {
          "model_module": "@jupyter-widgets/controls",
          "model_name": "FloatProgressModel",
          "state": {
            "_view_name": "ProgressView",
            "style": "IPY_MODEL_36392f4b1b0f4a65bb8fee8b279ea4ea",
            "_dom_classes": [],
            "description": "  6%",
            "_model_name": "FloatProgressModel",
            "bar_style": "danger",
            "max": 200,
            "_view_module": "@jupyter-widgets/controls",
            "_model_module_version": "1.5.0",
            "value": 11,
            "_view_count": null,
            "_view_module_version": "1.5.0",
            "orientation": "horizontal",
            "min": 0,
            "description_tooltip": null,
            "_model_module": "@jupyter-widgets/controls",
            "layout": "IPY_MODEL_f5bcd01a64e74c099fb6114824547550"
          }
        },
        "dac89cbb4afe47c984cb9fa948c36e01": {
          "model_module": "@jupyter-widgets/controls",
          "model_name": "HTMLModel",
          "state": {
            "_view_name": "HTMLView",
            "style": "IPY_MODEL_3adc86644ffe4909942d340b3c7e456d",
            "_dom_classes": [],
            "description": "",
            "_model_name": "HTMLModel",
            "placeholder": "​",
            "_view_module": "@jupyter-widgets/controls",
            "_model_module_version": "1.5.0",
            "value": " 11/200 [00:16&lt;04:46,  1.52s/epoch, loss=0.53, accuracy=0.776, f1=0.776, val_loss=0.531, val_accuracy=0.716, val_f1=0.714]",
            "_view_count": null,
            "_view_module_version": "1.5.0",
            "description_tooltip": null,
            "_model_module": "@jupyter-widgets/controls",
            "layout": "IPY_MODEL_55f6dccf5e2f4af19c279b33a2302796"
          }
        },
        "36392f4b1b0f4a65bb8fee8b279ea4ea": {
          "model_module": "@jupyter-widgets/controls",
          "model_name": "ProgressStyleModel",
          "state": {
            "_view_name": "StyleView",
            "_model_name": "ProgressStyleModel",
            "description_width": "initial",
            "_view_module": "@jupyter-widgets/base",
            "_model_module_version": "1.5.0",
            "_view_count": null,
            "_view_module_version": "1.2.0",
            "bar_color": null,
            "_model_module": "@jupyter-widgets/controls"
          }
        },
        "f5bcd01a64e74c099fb6114824547550": {
          "model_module": "@jupyter-widgets/base",
          "model_name": "LayoutModel",
          "state": {
            "_view_name": "LayoutView",
            "grid_template_rows": null,
            "right": null,
            "justify_content": null,
            "_view_module": "@jupyter-widgets/base",
            "overflow": null,
            "_model_module_version": "1.2.0",
            "_view_count": null,
            "flex_flow": null,
            "width": null,
            "min_width": null,
            "border": null,
            "align_items": null,
            "bottom": null,
            "_model_module": "@jupyter-widgets/base",
            "top": null,
            "grid_column": null,
            "overflow_y": null,
            "overflow_x": null,
            "grid_auto_flow": null,
            "grid_area": null,
            "grid_template_columns": null,
            "flex": null,
            "_model_name": "LayoutModel",
            "justify_items": null,
            "grid_row": null,
            "max_height": null,
            "align_content": null,
            "visibility": null,
            "align_self": null,
            "height": null,
            "min_height": null,
            "padding": null,
            "grid_auto_rows": null,
            "grid_gap": null,
            "max_width": null,
            "order": null,
            "_view_module_version": "1.2.0",
            "grid_template_areas": null,
            "object_position": null,
            "object_fit": null,
            "grid_auto_columns": null,
            "margin": null,
            "display": null,
            "left": null
          }
        },
        "3adc86644ffe4909942d340b3c7e456d": {
          "model_module": "@jupyter-widgets/controls",
          "model_name": "DescriptionStyleModel",
          "state": {
            "_view_name": "StyleView",
            "_model_name": "DescriptionStyleModel",
            "description_width": "",
            "_view_module": "@jupyter-widgets/base",
            "_model_module_version": "1.5.0",
            "_view_count": null,
            "_view_module_version": "1.2.0",
            "_model_module": "@jupyter-widgets/controls"
          }
        },
        "55f6dccf5e2f4af19c279b33a2302796": {
          "model_module": "@jupyter-widgets/base",
          "model_name": "LayoutModel",
          "state": {
            "_view_name": "LayoutView",
            "grid_template_rows": null,
            "right": null,
            "justify_content": null,
            "_view_module": "@jupyter-widgets/base",
            "overflow": null,
            "_model_module_version": "1.2.0",
            "_view_count": null,
            "flex_flow": null,
            "width": null,
            "min_width": null,
            "border": null,
            "align_items": null,
            "bottom": null,
            "_model_module": "@jupyter-widgets/base",
            "top": null,
            "grid_column": null,
            "overflow_y": null,
            "overflow_x": null,
            "grid_auto_flow": null,
            "grid_area": null,
            "grid_template_columns": null,
            "flex": null,
            "_model_name": "LayoutModel",
            "justify_items": null,
            "grid_row": null,
            "max_height": null,
            "align_content": null,
            "visibility": null,
            "align_self": null,
            "height": null,
            "min_height": null,
            "padding": null,
            "grid_auto_rows": null,
            "grid_gap": null,
            "max_width": null,
            "order": null,
            "_view_module_version": "1.2.0",
            "grid_template_areas": null,
            "object_position": null,
            "object_fit": null,
            "grid_auto_columns": null,
            "margin": null,
            "display": null,
            "left": null
          }
        },
        "acd0815f1d6e44109d565e2c9675548d": {
          "model_module": "@jupyter-widgets/controls",
          "model_name": "HBoxModel",
          "state": {
            "_view_name": "HBoxView",
            "_dom_classes": [],
            "_model_name": "HBoxModel",
            "_view_module": "@jupyter-widgets/controls",
            "_model_module_version": "1.5.0",
            "_view_count": null,
            "_view_module_version": "1.5.0",
            "box_style": "",
            "layout": "IPY_MODEL_ea3fd1cb753a4e42b6d65813eb773888",
            "_model_module": "@jupyter-widgets/controls",
            "children": [
              "IPY_MODEL_08d74fda725744558bd720265382feaf",
              "IPY_MODEL_ff39d1ba2e3849efb565dc89b3ccce67"
            ]
          }
        },
        "ea3fd1cb753a4e42b6d65813eb773888": {
          "model_module": "@jupyter-widgets/base",
          "model_name": "LayoutModel",
          "state": {
            "_view_name": "LayoutView",
            "grid_template_rows": null,
            "right": null,
            "justify_content": null,
            "_view_module": "@jupyter-widgets/base",
            "overflow": null,
            "_model_module_version": "1.2.0",
            "_view_count": null,
            "flex_flow": null,
            "width": null,
            "min_width": null,
            "border": null,
            "align_items": null,
            "bottom": null,
            "_model_module": "@jupyter-widgets/base",
            "top": null,
            "grid_column": null,
            "overflow_y": null,
            "overflow_x": null,
            "grid_auto_flow": null,
            "grid_area": null,
            "grid_template_columns": null,
            "flex": null,
            "_model_name": "LayoutModel",
            "justify_items": null,
            "grid_row": null,
            "max_height": null,
            "align_content": null,
            "visibility": null,
            "align_self": null,
            "height": null,
            "min_height": null,
            "padding": null,
            "grid_auto_rows": null,
            "grid_gap": null,
            "max_width": null,
            "order": null,
            "_view_module_version": "1.2.0",
            "grid_template_areas": null,
            "object_position": null,
            "object_fit": null,
            "grid_auto_columns": null,
            "margin": null,
            "display": null,
            "left": null
          }
        },
        "08d74fda725744558bd720265382feaf": {
          "model_module": "@jupyter-widgets/controls",
          "model_name": "FloatProgressModel",
          "state": {
            "_view_name": "ProgressView",
            "style": "IPY_MODEL_54440a6de26b4d8388af6c50448c2a63",
            "_dom_classes": [],
            "description": "  7%",
            "_model_name": "FloatProgressModel",
            "bar_style": "danger",
            "max": 200,
            "_view_module": "@jupyter-widgets/controls",
            "_model_module_version": "1.5.0",
            "value": 14,
            "_view_count": null,
            "_view_module_version": "1.5.0",
            "orientation": "horizontal",
            "min": 0,
            "description_tooltip": null,
            "_model_module": "@jupyter-widgets/controls",
            "layout": "IPY_MODEL_54372521b26c4363b5963341ccd864da"
          }
        },
        "ff39d1ba2e3849efb565dc89b3ccce67": {
          "model_module": "@jupyter-widgets/controls",
          "model_name": "HTMLModel",
          "state": {
            "_view_name": "HTMLView",
            "style": "IPY_MODEL_ecef7cca12c74f1892f1c59ec6be2b0d",
            "_dom_classes": [],
            "description": "",
            "_model_name": "HTMLModel",
            "placeholder": "​",
            "_view_module": "@jupyter-widgets/controls",
            "_model_module_version": "1.5.0",
            "value": " 14/200 [00:17&lt;03:53,  1.26s/epoch, loss=0.487, accuracy=0.772, f1=0.772, val_loss=0.669, val_accuracy=0.741, val_f1=0.726]",
            "_view_count": null,
            "_view_module_version": "1.5.0",
            "description_tooltip": null,
            "_model_module": "@jupyter-widgets/controls",
            "layout": "IPY_MODEL_a0bbc9170bfa4400869582e7ab6d3275"
          }
        },
        "54440a6de26b4d8388af6c50448c2a63": {
          "model_module": "@jupyter-widgets/controls",
          "model_name": "ProgressStyleModel",
          "state": {
            "_view_name": "StyleView",
            "_model_name": "ProgressStyleModel",
            "description_width": "initial",
            "_view_module": "@jupyter-widgets/base",
            "_model_module_version": "1.5.0",
            "_view_count": null,
            "_view_module_version": "1.2.0",
            "bar_color": null,
            "_model_module": "@jupyter-widgets/controls"
          }
        },
        "54372521b26c4363b5963341ccd864da": {
          "model_module": "@jupyter-widgets/base",
          "model_name": "LayoutModel",
          "state": {
            "_view_name": "LayoutView",
            "grid_template_rows": null,
            "right": null,
            "justify_content": null,
            "_view_module": "@jupyter-widgets/base",
            "overflow": null,
            "_model_module_version": "1.2.0",
            "_view_count": null,
            "flex_flow": null,
            "width": null,
            "min_width": null,
            "border": null,
            "align_items": null,
            "bottom": null,
            "_model_module": "@jupyter-widgets/base",
            "top": null,
            "grid_column": null,
            "overflow_y": null,
            "overflow_x": null,
            "grid_auto_flow": null,
            "grid_area": null,
            "grid_template_columns": null,
            "flex": null,
            "_model_name": "LayoutModel",
            "justify_items": null,
            "grid_row": null,
            "max_height": null,
            "align_content": null,
            "visibility": null,
            "align_self": null,
            "height": null,
            "min_height": null,
            "padding": null,
            "grid_auto_rows": null,
            "grid_gap": null,
            "max_width": null,
            "order": null,
            "_view_module_version": "1.2.0",
            "grid_template_areas": null,
            "object_position": null,
            "object_fit": null,
            "grid_auto_columns": null,
            "margin": null,
            "display": null,
            "left": null
          }
        },
        "ecef7cca12c74f1892f1c59ec6be2b0d": {
          "model_module": "@jupyter-widgets/controls",
          "model_name": "DescriptionStyleModel",
          "state": {
            "_view_name": "StyleView",
            "_model_name": "DescriptionStyleModel",
            "description_width": "",
            "_view_module": "@jupyter-widgets/base",
            "_model_module_version": "1.5.0",
            "_view_count": null,
            "_view_module_version": "1.2.0",
            "_model_module": "@jupyter-widgets/controls"
          }
        },
        "a0bbc9170bfa4400869582e7ab6d3275": {
          "model_module": "@jupyter-widgets/base",
          "model_name": "LayoutModel",
          "state": {
            "_view_name": "LayoutView",
            "grid_template_rows": null,
            "right": null,
            "justify_content": null,
            "_view_module": "@jupyter-widgets/base",
            "overflow": null,
            "_model_module_version": "1.2.0",
            "_view_count": null,
            "flex_flow": null,
            "width": null,
            "min_width": null,
            "border": null,
            "align_items": null,
            "bottom": null,
            "_model_module": "@jupyter-widgets/base",
            "top": null,
            "grid_column": null,
            "overflow_y": null,
            "overflow_x": null,
            "grid_auto_flow": null,
            "grid_area": null,
            "grid_template_columns": null,
            "flex": null,
            "_model_name": "LayoutModel",
            "justify_items": null,
            "grid_row": null,
            "max_height": null,
            "align_content": null,
            "visibility": null,
            "align_self": null,
            "height": null,
            "min_height": null,
            "padding": null,
            "grid_auto_rows": null,
            "grid_gap": null,
            "max_width": null,
            "order": null,
            "_view_module_version": "1.2.0",
            "grid_template_areas": null,
            "object_position": null,
            "object_fit": null,
            "grid_auto_columns": null,
            "margin": null,
            "display": null,
            "left": null
          }
        },
        "40746044c0ce4c7685bb972c6d008e88": {
          "model_module": "@jupyter-widgets/controls",
          "model_name": "HBoxModel",
          "state": {
            "_view_name": "HBoxView",
            "_dom_classes": [],
            "_model_name": "HBoxModel",
            "_view_module": "@jupyter-widgets/controls",
            "_model_module_version": "1.5.0",
            "_view_count": null,
            "_view_module_version": "1.5.0",
            "box_style": "",
            "layout": "IPY_MODEL_502964ab2f514d028e7534634f1004ac",
            "_model_module": "@jupyter-widgets/controls",
            "children": [
              "IPY_MODEL_1b10d4e1f3f749ff82389d558f4fd2f2",
              "IPY_MODEL_4f48e5522e6f456796c160c594ae948a"
            ]
          }
        },
        "502964ab2f514d028e7534634f1004ac": {
          "model_module": "@jupyter-widgets/base",
          "model_name": "LayoutModel",
          "state": {
            "_view_name": "LayoutView",
            "grid_template_rows": null,
            "right": null,
            "justify_content": null,
            "_view_module": "@jupyter-widgets/base",
            "overflow": null,
            "_model_module_version": "1.2.0",
            "_view_count": null,
            "flex_flow": null,
            "width": null,
            "min_width": null,
            "border": null,
            "align_items": null,
            "bottom": null,
            "_model_module": "@jupyter-widgets/base",
            "top": null,
            "grid_column": null,
            "overflow_y": null,
            "overflow_x": null,
            "grid_auto_flow": null,
            "grid_area": null,
            "grid_template_columns": null,
            "flex": null,
            "_model_name": "LayoutModel",
            "justify_items": null,
            "grid_row": null,
            "max_height": null,
            "align_content": null,
            "visibility": null,
            "align_self": null,
            "height": null,
            "min_height": null,
            "padding": null,
            "grid_auto_rows": null,
            "grid_gap": null,
            "max_width": null,
            "order": null,
            "_view_module_version": "1.2.0",
            "grid_template_areas": null,
            "object_position": null,
            "object_fit": null,
            "grid_auto_columns": null,
            "margin": null,
            "display": null,
            "left": null
          }
        },
        "1b10d4e1f3f749ff82389d558f4fd2f2": {
          "model_module": "@jupyter-widgets/controls",
          "model_name": "FloatProgressModel",
          "state": {
            "_view_name": "ProgressView",
            "style": "IPY_MODEL_50c147bf5f474641bae8169779b94b6c",
            "_dom_classes": [],
            "description": " 10%",
            "_model_name": "FloatProgressModel",
            "bar_style": "danger",
            "max": 200,
            "_view_module": "@jupyter-widgets/controls",
            "_model_module_version": "1.5.0",
            "value": 19,
            "_view_count": null,
            "_view_module_version": "1.5.0",
            "orientation": "horizontal",
            "min": 0,
            "description_tooltip": null,
            "_model_module": "@jupyter-widgets/controls",
            "layout": "IPY_MODEL_07adef8f76ec4111a13a79601d502624"
          }
        },
        "4f48e5522e6f456796c160c594ae948a": {
          "model_module": "@jupyter-widgets/controls",
          "model_name": "HTMLModel",
          "state": {
            "_view_name": "HTMLView",
            "style": "IPY_MODEL_d03cd23b6686435897ffc51e973486bf",
            "_dom_classes": [],
            "description": "",
            "_model_name": "HTMLModel",
            "placeholder": "​",
            "_view_module": "@jupyter-widgets/controls",
            "_model_module_version": "1.5.0",
            "value": " 19/200 [00:23&lt;03:39,  1.21s/epoch, loss=0.442, accuracy=0.813, f1=0.813, val_loss=0.407, val_accuracy=0.802, val_f1=0.787]",
            "_view_count": null,
            "_view_module_version": "1.5.0",
            "description_tooltip": null,
            "_model_module": "@jupyter-widgets/controls",
            "layout": "IPY_MODEL_3a0ca7872ac7417ab1c21dfd24229a79"
          }
        },
        "50c147bf5f474641bae8169779b94b6c": {
          "model_module": "@jupyter-widgets/controls",
          "model_name": "ProgressStyleModel",
          "state": {
            "_view_name": "StyleView",
            "_model_name": "ProgressStyleModel",
            "description_width": "initial",
            "_view_module": "@jupyter-widgets/base",
            "_model_module_version": "1.5.0",
            "_view_count": null,
            "_view_module_version": "1.2.0",
            "bar_color": null,
            "_model_module": "@jupyter-widgets/controls"
          }
        },
        "07adef8f76ec4111a13a79601d502624": {
          "model_module": "@jupyter-widgets/base",
          "model_name": "LayoutModel",
          "state": {
            "_view_name": "LayoutView",
            "grid_template_rows": null,
            "right": null,
            "justify_content": null,
            "_view_module": "@jupyter-widgets/base",
            "overflow": null,
            "_model_module_version": "1.2.0",
            "_view_count": null,
            "flex_flow": null,
            "width": null,
            "min_width": null,
            "border": null,
            "align_items": null,
            "bottom": null,
            "_model_module": "@jupyter-widgets/base",
            "top": null,
            "grid_column": null,
            "overflow_y": null,
            "overflow_x": null,
            "grid_auto_flow": null,
            "grid_area": null,
            "grid_template_columns": null,
            "flex": null,
            "_model_name": "LayoutModel",
            "justify_items": null,
            "grid_row": null,
            "max_height": null,
            "align_content": null,
            "visibility": null,
            "align_self": null,
            "height": null,
            "min_height": null,
            "padding": null,
            "grid_auto_rows": null,
            "grid_gap": null,
            "max_width": null,
            "order": null,
            "_view_module_version": "1.2.0",
            "grid_template_areas": null,
            "object_position": null,
            "object_fit": null,
            "grid_auto_columns": null,
            "margin": null,
            "display": null,
            "left": null
          }
        },
        "d03cd23b6686435897ffc51e973486bf": {
          "model_module": "@jupyter-widgets/controls",
          "model_name": "DescriptionStyleModel",
          "state": {
            "_view_name": "StyleView",
            "_model_name": "DescriptionStyleModel",
            "description_width": "",
            "_view_module": "@jupyter-widgets/base",
            "_model_module_version": "1.5.0",
            "_view_count": null,
            "_view_module_version": "1.2.0",
            "_model_module": "@jupyter-widgets/controls"
          }
        },
        "3a0ca7872ac7417ab1c21dfd24229a79": {
          "model_module": "@jupyter-widgets/base",
          "model_name": "LayoutModel",
          "state": {
            "_view_name": "LayoutView",
            "grid_template_rows": null,
            "right": null,
            "justify_content": null,
            "_view_module": "@jupyter-widgets/base",
            "overflow": null,
            "_model_module_version": "1.2.0",
            "_view_count": null,
            "flex_flow": null,
            "width": null,
            "min_width": null,
            "border": null,
            "align_items": null,
            "bottom": null,
            "_model_module": "@jupyter-widgets/base",
            "top": null,
            "grid_column": null,
            "overflow_y": null,
            "overflow_x": null,
            "grid_auto_flow": null,
            "grid_area": null,
            "grid_template_columns": null,
            "flex": null,
            "_model_name": "LayoutModel",
            "justify_items": null,
            "grid_row": null,
            "max_height": null,
            "align_content": null,
            "visibility": null,
            "align_self": null,
            "height": null,
            "min_height": null,
            "padding": null,
            "grid_auto_rows": null,
            "grid_gap": null,
            "max_width": null,
            "order": null,
            "_view_module_version": "1.2.0",
            "grid_template_areas": null,
            "object_position": null,
            "object_fit": null,
            "grid_auto_columns": null,
            "margin": null,
            "display": null,
            "left": null
          }
        }
      }
    }
  },
  "cells": [
    {
      "cell_type": "code",
      "metadata": {
        "id": "Sqff39csKTz8",
        "colab": {
          "base_uri": "https://localhost:8080/"
        },
        "outputId": "6c5671b5-a434-4147-9f05-6c267eae6f14"
      },
      "source": [
        "from google.colab import drive\n",
        "drive.mount('/content/gdrive')"
      ],
      "execution_count": null,
      "outputs": [
        {
          "output_type": "stream",
          "text": [
            "Drive already mounted at /content/gdrive; to attempt to forcibly remount, call drive.mount(\"/content/gdrive\", force_remount=True).\n"
          ],
          "name": "stdout"
        }
      ]
    },
    {
      "cell_type": "code",
      "metadata": {
        "id": "Iu_Nli0zP4Vo",
        "colab": {
          "base_uri": "https://localhost:8080/"
        },
        "outputId": "254c9c66-6f6c-43ad-ab71-844b6d4e3945"
      },
      "source": [
        "%cd gdrive/My Drive/test_colab/ml_project2/src\n",
        "!pwd"
      ],
      "execution_count": null,
      "outputs": [
        {
          "output_type": "stream",
          "text": [
            "[Errno 2] No such file or directory: 'gdrive/My Drive/test_colab/ml_project2/src'\n",
            "/content/gdrive/My Drive/test_colab/ml_project2/src\n",
            "/content/gdrive/My Drive/test_colab/ml_project2/src\n"
          ],
          "name": "stdout"
        }
      ]
    },
    {
      "cell_type": "code",
      "metadata": {
        "id": "_GwDcU_1ref4",
        "colab": {
          "base_uri": "https://localhost:8080/"
        },
        "outputId": "2c3bfad3-c325-4111-9e16-e98247e5be06"
      },
      "source": [
        "!ls ../pneumoscope"
      ],
      "execution_count": null,
      "outputs": [
        {
          "output_type": "stream",
          "text": [
            "h5_files  npz_files\n"
          ],
          "name": "stdout"
        }
      ]
    },
    {
      "cell_type": "code",
      "metadata": {
        "colab": {
          "background_save": true
        },
        "id": "3RVRANMpTiI1",
        "outputId": "ba31d494-ee95-4753-f96c-d9dc45381057"
      },
      "source": [
        "!git reset --hard\n",
        "!git pull"
      ],
      "execution_count": null,
      "outputs": [
        {
          "output_type": "stream",
          "text": [
            "Checking out files: 100% (2592/2592), done.\n",
            "HEAD is now at 076018f clinical databases\n",
            "remote: Enumerating objects: 14, done.\u001b[K\n",
            "remote: Counting objects: 100% (14/14), done.\u001b[K\n",
            "remote: Compressing objects: 100% (2/2), done.\u001b[K\n",
            "remote: Total 8 (delta 6), reused 8 (delta 6), pack-reused 0\u001b[K\n",
            "Unpacking objects: 100% (8/8), done.\n",
            "From https://github.com/salimbeni1/ml_project2\n",
            "   076018f..7b67663  main       -> origin/main\n",
            "Updating 076018f..7b67663\n",
            "Fast-forward\n",
            " src/sound_processing.py | 4 \u001b[32m++\u001b[m\u001b[31m--\u001b[m\n",
            " 1 file changed, 2 insertions(+), 2 deletions(-)\n"
          ],
          "name": "stdout"
        }
      ]
    },
    {
      "cell_type": "code",
      "metadata": {
        "colab": {
          "base_uri": "https://localhost:8080/"
        },
        "id": "tpdvyfh1xluV",
        "outputId": "306dc7de-536d-44f8-e8ab-7db63ff43325"
      },
      "source": [
        "# location of the npz files\n",
        "!ls -l ../pneumoscope/npz_files/*/"
      ],
      "execution_count": null,
      "outputs": [
        {
          "output_type": "stream",
          "text": [
            "../pneumoscope/npz_files/GVA/:\n",
            "total 3079312\n",
            "-rw------- 1 root root  553904757 Nov 27 16:23 GVA_Ca_Co_test.npz\n",
            "-rw------- 1 root root 1369343627 Nov 27 16:16 GVA_Ca_train_b1.npz\n",
            "-rw------- 1 root root 1229965595 Nov 27 16:13 GVA_Co_train_b1.npz\n",
            "\n",
            "../pneumoscope/npz_files/POA/:\n",
            "total 21056243\n",
            "-rw------- 1 root root  546407225 Nov 28 07:42 POA_Ca_Co_test.npz\n",
            "-rw------- 1 root root 4121620181 Nov 27 15:29 POA_Ca_train_b1.npz\n",
            "-rw------- 1 root root 4301549167 Nov 27 15:17 POA_Ca_train_b2.npz\n",
            "-rw------- 1 root root 4519848135 Nov 27 15:41 POA_Ca_train_b3.npz\n",
            "-rw------- 1 root root 4150727343 Nov 27 15:52 POA_Ca_train_b4.npz\n",
            "-rw------- 1 root root 3088366560 Nov 27 16:07 POA_Co_train_b1.npz\n",
            "-rw------- 1 root root  833071644 Nov 27 15:57 POA_Co_train_b2.npz\n"
          ],
          "name": "stdout"
        }
      ]
    },
    {
      "cell_type": "code",
      "metadata": {
        "id": "9u0RLb5OrSkg"
      },
      "source": [
        "# keras imports\n",
        "import keras\n",
        "from keras.models import Sequential\n",
        "from keras.layers import Dense, Convolution2D, Flatten, MaxPooling2D, ZeroPadding2D, Dropout, BatchNormalization, Activation\n",
        "from keras import optimizers\n",
        "from keras.utils import to_categorical\n",
        "from keras.preprocessing.image import ImageDataGenerator\n",
        "from keras.models import load_model\n",
        "from keras.callbacks import ModelCheckpoint, CSVLogger, RemoteMonitor, TensorBoard, ReduceLROnPlateau\n",
        "from tensorboardcolab import TensorBoardColab, TensorBoardColabCallback\n",
        "from tqdm.keras import TqdmCallback"
      ],
      "execution_count": null,
      "outputs": []
    },
    {
      "cell_type": "code",
      "metadata": {
        "id": "zGAlCPjfWOac"
      },
      "source": [
        "# ours\n",
        "import sound_processing as sp\n",
        "import utils as ut\n",
        "import model_tools as mt\n",
        "\n",
        "# standards\n",
        "import numpy as np\n",
        "from scipy import signal\n",
        "from scipy.io import wavfile\n",
        "import matplotlib.pyplot as plt\n",
        "import glob"
      ],
      "execution_count": null,
      "outputs": []
    },
    {
      "cell_type": "code",
      "metadata": {
        "id": "ye4WNNrVcaNC"
      },
      "source": [
        "def get_GVA():\n",
        "\n",
        "  # Train -------------------------------------\n",
        "  feat_GVA_Ca, _, posi_GVA_Ca, ctrl_GVA_Ca, _, nbpa_GVA_Ca = ut.load_from_npz( '../pneumoscope/npz_files/GVA/GVA_Ca_train_b1.npz' )\n",
        "  feat_GVA_Co, _, posi_GVA_Co, ctrl_GVA_Co, _, nbpa_GVA_Co = ut.load_from_npz( '../pneumoscope/npz_files/GVA/GVA_Co_train_b1.npz' )\n",
        "  # Merge train batches -----------------------\n",
        "  features   = np.append(feat_GVA_Ca, feat_GVA_Co)\n",
        "  positions  = np.append(posi_GVA_Ca, posi_GVA_Co)\n",
        "  controls   = np.append(ctrl_GVA_Ca, ctrl_GVA_Co)\n",
        "  patientnbs = np.append(nbpa_GVA_Ca, nbpa_GVA_Co)\n",
        "\n",
        "  # Test ---------------------------------------\n",
        "  feat_GVA_test, _, posi_GVA_test, ctrl_GVA_test, _, nbpa_GVA_test = ut.load_from_npz( '../pneumoscope/npz_files/GVA/GVA_Ca_Co_test.npz'  )\n",
        "  featuresT   = feat_GVA_test\n",
        "  positionsT  = posi_GVA_test\n",
        "  controlsT   = ctrl_GVA_test\n",
        "  patientnbsT = nbpa_GVA_test\n",
        "\n",
        "  # return (train),(test)\n",
        "  return (features, positions, controls, patientnbs), (featuresT, positionsT, controlsT, patientnbsT)"
      ],
      "execution_count": null,
      "outputs": []
    },
    {
      "cell_type": "code",
      "metadata": {
        "id": "YH-PFP9C0fHn"
      },
      "source": [
        "def get_POA(shrink = True):\n",
        "\n",
        "  # Train -------------------------------------\n",
        "  feat_POA_Ca, _, posi_POA_Ca, ctrl_POA_Ca, _, nbpa_POA_Ca = ut.load_from_npz( '../pneumoscope/npz_files/POA/POA_Ca_train_b1.npz' )\n",
        "  feat_POA_Co, _, posi_POA_Co, ctrl_POA_Co, _, nbpa_POA_Co = ut.load_from_npz( '../pneumoscope/npz_files/POA/POA_Co_train_b1.npz' )\n",
        "  # Merge train batches -----------------------\n",
        "  features   = np.append(feat_POA_Ca, feat_POA_Co)\n",
        "  positions  = np.append(posi_POA_Ca, posi_POA_Co)\n",
        "  controls   = np.append(ctrl_POA_Ca, ctrl_POA_Co)\n",
        "  patientnbs = np.append(nbpa_POA_Ca, nbpa_POA_Co)\n",
        "\n",
        "  # Test ---------------------------------------\n",
        "  feat_POA_test, _, posi_POA_test, ctrl_POA_test, _, nbpa_POA_test = ut.load_from_npz( '../pneumoscope/npz_files/POA/POA_Ca_Co_test.npz'  )\n",
        "  featuresT   = feat_POA_test\n",
        "  positionsT  = posi_POA_test\n",
        "  controlsT   = ctrl_POA_test\n",
        "  patientnbsT = nbpa_POA_test\n",
        "\n",
        "  # Shrink too big features --------------------\n",
        "  if (shrink):\n",
        "    for i in range(featuresT.shape[0]):\n",
        "      size = featuresT[i].shape[0]\n",
        "      if (size > 20):\n",
        "        idx = np.random.randint(size, size=15)\n",
        "        featuresT[i] = featuresT[i][idx,:]\n",
        "        print(featuresT[i].shape)\n",
        "\n",
        "    for i in range(features.shape[0]):\n",
        "      size = features[i].shape[0]\n",
        "      if (size > 20):\n",
        "        idx = np.random.randint(size, size=15)\n",
        "        features[i] = features[i][idx,:]\n",
        "\n",
        "  # return (train),(test)\n",
        "  return (features, positions, controls, patientnbs), (featuresT, positionsT, controlsT, patientnbsT)"
      ],
      "execution_count": null,
      "outputs": []
    },
    {
      "cell_type": "code",
      "metadata": {
        "colab": {
          "base_uri": "https://localhost:8080/"
        },
        "id": "f5xiEH9kKeUO",
        "outputId": "bae337a0-f71c-4f29-85c7-080823fd6717"
      },
      "source": [
        "(features, positions, controls, patientnbs), (featuresT, positionsT, controlsT, patientnbsT) = get_GVA()"
      ],
      "execution_count": null,
      "outputs": [
        {
          "output_type": "stream",
          "text": [
            "Importing from: ../pneumoscope/npz_files/GVA/GVA_Ca_train_b1.npz\n",
            "Importing from: ../pneumoscope/npz_files/GVA/GVA_Co_train_b1.npz\n",
            "Importing from: ../pneumoscope/npz_files/GVA/GVA_Ca_Co_test.npz\n"
          ],
          "name": "stdout"
        }
      ]
    },
    {
      "cell_type": "code",
      "metadata": {
        "id": "4BXUsOWaBePy"
      },
      "source": [
        "(features, positions, controls, patientnbs), (featuresT, positionsT, controlsT, patientnbsT) = get_POA()"
      ],
      "execution_count": null,
      "outputs": []
    },
    {
      "cell_type": "code",
      "metadata": {
        "id": "Db-vEvvscc7e"
      },
      "source": [
        ""
      ],
      "execution_count": null,
      "outputs": []
    },
    {
      "cell_type": "code",
      "metadata": {
        "id": "2VPdk5WzsacO",
        "colab": {
          "base_uri": "https://localhost:8080/",
          "height": 1000,
          "referenced_widgets": [
            "6581d2fd70474ca78f70c47e6a6b84e8",
            "972a8feef54c46c1ab73a635e017f12e",
            "ddad0c693eee4fdcba1a5ffcb9af0825",
            "19bbcc2362ce4a99abce795e94732639",
            "a64cf8db60d7423cb73852c0610ce472",
            "24828984297a4d84ba60f73993d033e5",
            "106d074994a54adea1f3095d16a09b5a",
            "f25c105ba19f46d498fd2c8ed441eb50",
            "1f179680511b4affb41feb53be77ea48",
            "130b3d0c373e4fc7b4252c347e6f2612",
            "3a2c740899574cdb8560d4b7209f3bba",
            "482b718f3e1c455f9cbdec81e9c463d2",
            "15a2cfe3379445dab3ff068e63bf14d5",
            "59a43c16912049d6bc77334540c851b6",
            "b9cea158b7074cb3b821d8af25b04312",
            "1f42d588e9124ea88970541377b39c9f",
            "37f62792fa2745ce82b13639d0a36449",
            "f16cfa2330d1400685f98ee512c75d4a",
            "11e311eca9144d649ba94728cad67fe0",
            "7c5d97fa8f414c8583cb2880da8abe44",
            "caf7c3576e2e4655a9fdb0532f628f22",
            "62eaa49bd76f41b2b3f8f1aa7dc88787",
            "8f3d5c756fba4b469213941b81285fdd",
            "e37e91d1332b489b84e7e61bebbdfe99",
            "fc10dfb172b3443d8799a43fc2f85be7",
            "d1779d6a1b754d27be26d91923a88213",
            "e97ea4183e774270b6761839ad634b24",
            "b2476ba4bcf644c8b150de1f9b276bb3",
            "4b6915296f4842bd8e16158183fd189f",
            "d191f3a305a9492ebaa5b762773620a3",
            "bdc70ef5d7bd4f84bee203a8b15ad6dc",
            "d77f7796746242e8ae98ce918262e753",
            "a082c254e426456fac099e133f20a2ef",
            "cea892911c3f4a7f9d13c88b45dd94fb",
            "38728d0589e2405291752d93fd860c1e",
            "11a4ec14118346c9952ecceb64a9ea92",
            "6096c3132e7c4224b86bed126eab97bf",
            "68a88fd752c64449964d5803d7a03495",
            "2b74828f164740949cbeb5e809d233a9",
            "63d9787dcc5b4c3db0b90c5af75e0832",
            "86aa13b09fa64c61a34b4bfb552704fc",
            "396e9ad2df5a43ae81f7f0926c7e86b8",
            "e4d01c48cbd8426dafeeb180a8e741d2",
            "117813756ed94f17bc09a537ce7320dd",
            "80b8369f94954743a31c74e281629a70",
            "af49ca83884246f49518e77e52e45d3b",
            "72fbdc0d843a4582a0813f9d3700677e",
            "8cc0b56bfad7490c8533f97a26f60cbe",
            "22b84e71612d40c3980fb7a672a710e0",
            "834b4121f3184efc8630fe7fc9db9c66",
            "873cbcf655f64dfe98630e2080a205dc",
            "e06e6f270eb744eeac1e5f8ba8b6017c",
            "49219821ae334b61ae2a812350f69b1e",
            "fb34eef7af0c4619800bc4e4fe5ec969",
            "86c0d947f4df438f8d1951a3200d77f4",
            "490fbc90361941d9b7e5a051187c32ca",
            "1e3475b8514a43caaca395220c99a97a",
            "39eb54e2913549fba7ff8189b22d93aa",
            "9ea9755d90714ee18760f3827797a4a6",
            "dac89cbb4afe47c984cb9fa948c36e01",
            "36392f4b1b0f4a65bb8fee8b279ea4ea",
            "f5bcd01a64e74c099fb6114824547550",
            "3adc86644ffe4909942d340b3c7e456d",
            "55f6dccf5e2f4af19c279b33a2302796",
            "acd0815f1d6e44109d565e2c9675548d",
            "ea3fd1cb753a4e42b6d65813eb773888",
            "08d74fda725744558bd720265382feaf",
            "ff39d1ba2e3849efb565dc89b3ccce67",
            "54440a6de26b4d8388af6c50448c2a63",
            "54372521b26c4363b5963341ccd864da",
            "ecef7cca12c74f1892f1c59ec6be2b0d",
            "a0bbc9170bfa4400869582e7ab6d3275",
            "40746044c0ce4c7685bb972c6d008e88",
            "502964ab2f514d028e7534634f1004ac",
            "1b10d4e1f3f749ff82389d558f4fd2f2",
            "4f48e5522e6f456796c160c594ae948a",
            "50c147bf5f474641bae8169779b94b6c",
            "07adef8f76ec4111a13a79601d502624",
            "d03cd23b6686435897ffc51e973486bf",
            "3a0ca7872ac7417ab1c21dfd24229a79"
          ]
        },
        "outputId": "98905a37-7902-4737-fff5-b03f63ec4405"
      },
      "source": [
        "from sklearn.model_selection import KFold\n",
        "\n",
        "\n",
        "print('Train set : ',features.shape)\n",
        "print('Test set  : ',featuresT.shape)\n",
        "\n",
        "\n",
        "def train_all_pos_models(index = 1):\n",
        "  stats = []\n",
        "  for position in ['P8']:\n",
        "\n",
        "    # Define per-fold score containers <-- these are new\n",
        "    acc_per_fold = []\n",
        "    loss_per_fold = []\n",
        "\n",
        "    print('position',position,'index',index)\n",
        "    # train set ----------------------------\n",
        "    indx = positions == position\n",
        "    x_train_, y_train_, pnb_train, pos_train = ut.prepare_samples(features[indx],controls[indx],positions[indx],patientnbs[indx])\n",
        "\n",
        "    # test set -----------------------------\n",
        "    #indx = positionsT == position\n",
        "    #x_test, y_test, pnb_test, pos_test = ut.prepare_samples(featuresT[indx],controlsT[indx],positionsT[indx],patientnbsT[indx])\n",
        "\n",
        "    print(x_train_.shape , y_train_.shape)\n",
        "\n",
        "    # shape --------------------------------\n",
        "    shape = x_train_.shape[1:]\n",
        "\n",
        "    # Define the K-fold Cross Validator\n",
        "    num_folds = 10\n",
        "    kfold = KFold(n_splits=num_folds, shuffle=False)\n",
        "\n",
        "    # K-fold Cross Validation model evaluation\n",
        "    fold_acc = []\n",
        "\n",
        "    fold_no = 1\n",
        "    for x_train_index, x_test_index in kfold.split(x_train_):\n",
        "      \n",
        "      x_train = x_train_[x_train_index]\n",
        "      x_test = x_train_[x_test_index]\n",
        "      y_train = y_train_[x_train_index]\n",
        "      y_test = y_train_[x_test_index]\n",
        "\n",
        "      # Prepare train batches ----------------\n",
        "      train_batch_size = 32\n",
        "      train_steps = x_train.shape[0]//train_batch_size # need to specify the number of steps since the data generator outputs continuously\n",
        "      train_generator = ImageDataGenerator(width_shift_range=0)\n",
        "      train_generator.fit(x_train) #apply the augmetnation to train data\n",
        "      train_datagen = train_generator.flow(x_train, y_train, batch_size=train_batch_size) # creates the mii batch flow\n",
        "\n",
        "      # Model and optimizer -----------------\n",
        "      density = 25\n",
        "      model = mt.get_model(shape , dense_unit = density)\n",
        "      sgd = optimizers.SGD(lr=0.00004, decay=1e-6, momentum=0.9, nesterov=True)\n",
        "      #adam = keras.optimizers.Adam(learning_rate=0.01)\n",
        "      model.compile(optimizer=sgd, loss='binary_crossentropy', metrics=['accuracy',ut.f1])  \n",
        "\n",
        "\n",
        "\n",
        "      # Callbacks --------------------------\n",
        "      checkpointer = ModelCheckpoint(monitor='val_loss',\n",
        "                                    mode='min', \n",
        "                                    filepath='../report_'+str(index)+'_'+position+'_d_'+str(density)+'_GVA_KFOLD.h5', # {epoch:02d}\n",
        "                                    verbose=0,\n",
        "                                    save_best_only=True,\n",
        "                                    save_freq = 'epoch'\n",
        "                                    )\n",
        "\n",
        "      # Fit --------------------------------\n",
        "      history = model.fit_generator(train_datagen,\n",
        "                                    steps_per_epoch=train_steps,\n",
        "                                    epochs=200,\n",
        "                                    validation_data=(x_test, y_test),\n",
        "                                    verbose = 0,\n",
        "                                    callbacks= [TqdmCallback(verbose=0),\n",
        "                                                keras.callbacks.EarlyStopping(patience=7),\n",
        "                                                #checkpointer\n",
        "                                                ]\n",
        "                                    )\n",
        "\n",
        "      # Plot history ----------------------\n",
        "      #ut.plot_history(history, title='POA model for '+position)\n",
        "\n",
        "      ind = np.argmin( history.history['val_loss'] )\n",
        "\n",
        "      fold_acc.append( [history.history['val_loss'][ind] , history.history['val_accuracy'][ind] , history.history['val_f1'][ind] ] )\n",
        "\n",
        "      print(f'Score for fold {fold_no}: { fold_acc[-1] } ')\n",
        "\n",
        "      # Increase fold number\n",
        "      fold_no = fold_no + 1\n",
        "    stats.append(fold_acc)\n",
        "  return stats\n",
        "\n",
        "\n",
        "all_stats = train_all_pos_models(1)"
      ],
      "execution_count": null,
      "outputs": [
        {
          "output_type": "stream",
          "text": [
            "Train set :  (503,)\n",
            "Test set  :  (70,)\n",
            "position P8 index 1\n",
            "shuffleling\n",
            "(815, 150, 216, 1) (815, 2)\n"
          ],
          "name": "stdout"
        },
        {
          "output_type": "display_data",
          "data": {
            "application/vnd.jupyter.widget-view+json": {
              "model_id": "6581d2fd70474ca78f70c47e6a6b84e8",
              "version_minor": 0,
              "version_major": 2
            },
            "text/plain": [
              "HBox(children=(FloatProgress(value=1.0, bar_style='info', max=1.0), HTML(value='')))"
            ]
          },
          "metadata": {
            "tags": []
          }
        },
        {
          "output_type": "stream",
          "text": [
            "WARNING:tensorflow:From <ipython-input-26-fb4b89eb9057>:77: Model.fit_generator (from tensorflow.python.keras.engine.training) is deprecated and will be removed in a future version.\n",
            "Instructions for updating:\n",
            "Please use Model.fit, which supports generators.\n",
            "\n",
            "Score for fold 1: [0.45085087418556213, 0.7560975551605225, 0.7673609852790833] \n"
          ],
          "name": "stdout"
        },
        {
          "output_type": "display_data",
          "data": {
            "application/vnd.jupyter.widget-view+json": {
              "model_id": "1f179680511b4affb41feb53be77ea48",
              "version_minor": 0,
              "version_major": 2
            },
            "text/plain": [
              "HBox(children=(FloatProgress(value=1.0, bar_style='info', max=1.0), HTML(value='')))"
            ]
          },
          "metadata": {
            "tags": []
          }
        },
        {
          "output_type": "stream",
          "text": [
            "\n",
            "Score for fold 2: [0.30072101950645447, 0.8902438879013062, 0.8819443583488464] \n"
          ],
          "name": "stdout"
        },
        {
          "output_type": "display_data",
          "data": {
            "application/vnd.jupyter.widget-view+json": {
              "model_id": "37f62792fa2745ce82b13639d0a36449",
              "version_minor": 0,
              "version_major": 2
            },
            "text/plain": [
              "HBox(children=(FloatProgress(value=1.0, bar_style='info', max=1.0), HTML(value='')))"
            ]
          },
          "metadata": {
            "tags": []
          }
        },
        {
          "output_type": "stream",
          "text": [
            "\n",
            "Score for fold 3: [0.36158716678619385, 0.792682945728302, 0.7986109852790833] \n"
          ],
          "name": "stdout"
        },
        {
          "output_type": "display_data",
          "data": {
            "application/vnd.jupyter.widget-view+json": {
              "model_id": "fc10dfb172b3443d8799a43fc2f85be7",
              "version_minor": 0,
              "version_major": 2
            },
            "text/plain": [
              "HBox(children=(FloatProgress(value=1.0, bar_style='info', max=1.0), HTML(value='')))"
            ]
          },
          "metadata": {
            "tags": []
          }
        },
        {
          "output_type": "stream",
          "text": [
            "\n",
            "Score for fold 4: [0.41646385192871094, 0.8048780560493469, 0.8171296119689941] \n"
          ],
          "name": "stdout"
        },
        {
          "output_type": "display_data",
          "data": {
            "application/vnd.jupyter.widget-view+json": {
              "model_id": "a082c254e426456fac099e133f20a2ef",
              "version_minor": 0,
              "version_major": 2
            },
            "text/plain": [
              "HBox(children=(FloatProgress(value=1.0, bar_style='info', max=1.0), HTML(value='')))"
            ]
          },
          "metadata": {
            "tags": []
          }
        },
        {
          "output_type": "stream",
          "text": [
            "\n",
            "Score for fold 5: [0.31202009320259094, 0.8780487775802612, 0.8796296119689941] \n"
          ],
          "name": "stdout"
        },
        {
          "output_type": "display_data",
          "data": {
            "application/vnd.jupyter.widget-view+json": {
              "model_id": "86aa13b09fa64c61a34b4bfb552704fc",
              "version_minor": 0,
              "version_major": 2
            },
            "text/plain": [
              "HBox(children=(FloatProgress(value=1.0, bar_style='info', max=1.0), HTML(value='')))"
            ]
          },
          "metadata": {
            "tags": []
          }
        },
        {
          "output_type": "stream",
          "text": [
            "\n",
            "Score for fold 6: [0.4115146994590759, 0.8641975522041321, 0.8578431010246277] \n"
          ],
          "name": "stdout"
        },
        {
          "output_type": "display_data",
          "data": {
            "application/vnd.jupyter.widget-view+json": {
              "model_id": "22b84e71612d40c3980fb7a672a710e0",
              "version_minor": 0,
              "version_major": 2
            },
            "text/plain": [
              "HBox(children=(FloatProgress(value=1.0, bar_style='info', max=1.0), HTML(value='')))"
            ]
          },
          "metadata": {
            "tags": []
          }
        },
        {
          "output_type": "stream",
          "text": [
            "\n",
            "Score for fold 7: [0.39658671617507935, 0.8148148059844971, 0.7794117331504822] \n"
          ],
          "name": "stdout"
        },
        {
          "output_type": "display_data",
          "data": {
            "application/vnd.jupyter.widget-view+json": {
              "model_id": "1e3475b8514a43caaca395220c99a97a",
              "version_minor": 0,
              "version_major": 2
            },
            "text/plain": [
              "HBox(children=(FloatProgress(value=1.0, bar_style='info', max=1.0), HTML(value='')))"
            ]
          },
          "metadata": {
            "tags": []
          }
        },
        {
          "output_type": "stream",
          "text": [
            "\n",
            "Score for fold 8: [0.4644911587238312, 0.8271604776382446, 0.8174018859863281] \n"
          ],
          "name": "stdout"
        },
        {
          "output_type": "display_data",
          "data": {
            "application/vnd.jupyter.widget-view+json": {
              "model_id": "acd0815f1d6e44109d565e2c9675548d",
              "version_minor": 0,
              "version_major": 2
            },
            "text/plain": [
              "HBox(children=(FloatProgress(value=1.0, bar_style='info', max=1.0), HTML(value='')))"
            ]
          },
          "metadata": {
            "tags": []
          }
        },
        {
          "output_type": "stream",
          "text": [
            "\n",
            "Score for fold 9: [0.46040311455726624, 0.7777777910232544, 0.7665440440177917] \n"
          ],
          "name": "stdout"
        },
        {
          "output_type": "display_data",
          "data": {
            "application/vnd.jupyter.widget-view+json": {
              "model_id": "40746044c0ce4c7685bb972c6d008e88",
              "version_minor": 0,
              "version_major": 2
            },
            "text/plain": [
              "HBox(children=(FloatProgress(value=1.0, bar_style='info', max=1.0), HTML(value='')))"
            ]
          },
          "metadata": {
            "tags": []
          }
        },
        {
          "output_type": "stream",
          "text": [
            "\n",
            "Score for fold 10: [0.35349592566490173, 0.8888888955116272, 0.8694851994514465] \n"
          ],
          "name": "stdout"
        }
      ]
    },
    {
      "cell_type": "code",
      "metadata": {
        "id": "fXcOHZNscfJk"
      },
      "source": [
        "def get_POA_train(shrink = True , caco = 'Ca', batch = 'b1'):\n",
        "\n",
        "  #if(batch != 'b1' and batch != 'b2'):\n",
        "  #  raise 'not enough batches'\n",
        "\n",
        "  # Train -------------------------------------\n",
        "  features, _, positions, controls, _, patientnbs = ut.load_from_npz( '../pneumoscope/npz_files/POA/POA_'+caco+'_train_'+batch+'.npz' )\n",
        "\n",
        "  # Shrink too big features --------------------\n",
        "  if (shrink):\n",
        "    for i in range(features.shape[0]):\n",
        "      size = features[i].shape[0]\n",
        "      if (size > 20):\n",
        "        idx = np.random.randint(size, size=15)\n",
        "        features[i] = features[i][idx,:]\n",
        "\n",
        "  # return (train),(test)\n",
        "  return (features, positions, controls, patientnbs)\n",
        "\n",
        "\n",
        "def get_GVA_train(shrink = True , caco = 'Ca', batch = 'b1'):\n",
        "\n",
        "  if(batch != 'b1'):\n",
        "    raise 'not enough batches'\n",
        "\n",
        "  # Train -------------------------------------\n",
        "  features, _, positions, controls, _, patientnbs = ut.load_from_npz( '../pneumoscope/npz_files/GVA/GVA_'+caco+'_train_'+batch+'.npz' )\n",
        "\n",
        "  # Shrink too big features --------------------\n",
        "  if (shrink):\n",
        "    for i in range(features.shape[0]):\n",
        "      size = features[i].shape[0]\n",
        "      if (size > 20):\n",
        "        idx = np.random.randint(size, size=15)\n",
        "        features[i] = features[i][idx,:]\n",
        "\n",
        "  # return (train),(test)\n",
        "  return (features, positions, controls, patientnbs)\n"
      ],
      "execution_count": null,
      "outputs": []
    },
    {
      "cell_type": "code",
      "metadata": {
        "id": "G0ra2kpKn_S-"
      },
      "source": [
        "from keras.models import Sequential, Model, Input\n",
        "\n",
        "def get_dropout(input_tensor, p=0.5, mc=False):\n",
        "  if mc:\n",
        "    return Dropout(p)(input_tensor, training=True)\n",
        "  else:\n",
        "    return Dropout(p)(input_tensor)\n",
        "\n",
        "def get_model( shape_input , dense_unit = 25 , mc_dropout = False):\n",
        "\n",
        "  inp = Input(shape_input)\n",
        "\n",
        "  x = Convolution2D(20, (3, 3), activation='relu', padding='same', input_shape=shape_input)(inp)\n",
        "  x = BatchNormalization()(x)\n",
        "  x = MaxPooling2D(2, 2)(x)\n",
        "  x = get_dropout(x, p=0.25, mc=mc_dropout)\n",
        "\n",
        "  x = Convolution2D(50, (3, 3), activation='relu', padding='same', input_shape = shape_input )(x)\n",
        "  x = BatchNormalization()(x)\n",
        "  x = MaxPooling2D(2, 2)(x)\n",
        "  x = get_dropout(x, p=0.25, mc=mc_dropout)\n",
        "\n",
        "  x = Flatten()(x)\n",
        "  x = Dense(dense_unit, activation='relu')(x)\n",
        "  x = BatchNormalization()(x)\n",
        "  x = get_dropout(x, p=0.25, mc=mc_dropout)\n",
        "\n",
        "  out = Dense(2, activation='softmax')(x)\n",
        "\n",
        "  model = Model(inputs=inp, outputs=out)\n",
        "  return model"
      ],
      "execution_count": null,
      "outputs": []
    },
    {
      "cell_type": "code",
      "metadata": {
        "id": "dC8hHXZgz7A8"
      },
      "source": [
        "def mean_models_fusion(x_test_, y_test_, p_test_, pos_test_ , position_weights = [1,1,1,1,1,1,1,1] , mc_dropout = False):\n",
        "  # Test set ---------------------------------------\n",
        "  #x_test_, y_test_, p_test_, pos_test_ = ut.prepare_samples(featuresT,controlsT,positionsT,patientnbsT)\n",
        "\n",
        "\n",
        "  # Model -----------------------------------------\n",
        "  model = get_model(x_test_.shape[1:] , dense_unit = 25 ,  mc_dropout = mc_dropout )\n",
        "  \n",
        "  sgd = optimizers.SGD(lr=0.00004, decay=1e-6, momentum=0.9, nesterov=True)\n",
        "  model.compile(optimizer=sgd, loss='binary_crossentropy', metrics=['accuracy',ut.f1]) \n",
        "\n",
        "\n",
        "  \n",
        "  y_pred_patient = []\n",
        "  y_expc_patient = []\n",
        "\n",
        "  for patient in np.unique(p_test_):\n",
        "    x_test_patient = x_test_[p_test_ == patient]\n",
        "    y_test_patient = y_test_[p_test_ == patient] # all the same\n",
        "    pos_test_patient = pos_test_[p_test_ == patient]\n",
        "\n",
        "    \n",
        "    print( 'y ->' , np.unique( y_test_patient, axis=0) )\n",
        "    for caco in np.unique( y_test_patient, axis=0):\n",
        "      pred_patient = []\n",
        "      for pos in np.unique(pos_test_patient):\n",
        "        #model.load_weights('../h5_files/'+str(pos)+'_density25_POA_200.h5')\n",
        "        model.load_weights('../report_2_'+str(pos)+'_d_25_POA.h5')\n",
        "        \n",
        "        to_pred = x_test_patient[(pos_test_patient == pos) & (y_test_patient[:,0] == caco[0])]\n",
        "        if(to_pred.shape[0] != 0):\n",
        "          pred = model.predict( to_pred )\n",
        "          for i in range(position_weights[int(pos[1])-1]):\n",
        "            pred_patient.append(np.mean(pred,axis=0))\n",
        "      \n",
        "      # patien preddiction (merge positions)\n",
        "      merged_position = np.mean(pred_patient,axis=0)\n",
        "      y_pred_patient.append(merged_position)\n",
        "      y_expc_patient.append(y_test_patient)\n",
        "      print('patient',patient ,' predicted:', merged_position , 'expected:' , caco)\n",
        "\n",
        "  y_pred_patient = np.array(y_pred_patient) # shape (N,2)\n",
        "  y_expc_patient = np.array(y_expc_patient) # shape (N,2)\n",
        "\n",
        "\n",
        "  #print( 'f1 score : ',ut.f1( y_expc_patient, y_pred_patient ) )\n",
        "\n",
        "  return y_pred_patient , y_expc_patient"
      ],
      "execution_count": null,
      "outputs": []
    },
    {
      "cell_type": "code",
      "metadata": {
        "id": "k4E_FPcg4zuV"
      },
      "source": [
        ""
      ],
      "execution_count": null,
      "outputs": []
    },
    {
      "cell_type": "code",
      "metadata": {
        "id": "fU6eyzWmiXMC"
      },
      "source": [
        "!ls ../"
      ],
      "execution_count": null,
      "outputs": []
    },
    {
      "cell_type": "code",
      "metadata": {
        "colab": {
          "base_uri": "https://localhost:8080/"
        },
        "id": "ufNHI6d_UUeN",
        "outputId": "c66b85e7-34e6-4239-efcb-417f210e1e7a"
      },
      "source": [
        "(featuresT, positionsT, controlsT, patientnbsT) = get_POA_train(caco = 'Ca' , batch = 'b4')"
      ],
      "execution_count": null,
      "outputs": [
        {
          "output_type": "stream",
          "text": [
            "Importing from: ../pneumoscope/npz_files/POA/POA_Ca_train_b4.npz\n"
          ],
          "name": "stdout"
        }
      ]
    },
    {
      "cell_type": "code",
      "metadata": {
        "colab": {
          "base_uri": "https://localhost:8080/"
        },
        "id": "Sc-ZNH8O3_Oc",
        "outputId": "f5fef360-9b20-4e81-8182-d08739efa476"
      },
      "source": [
        "x_test, y_test, p_test, pos_test = ut.prepare_samples(featuresT,controlsT,positionsT,patientnbsT)"
      ],
      "execution_count": null,
      "outputs": [
        {
          "output_type": "stream",
          "text": [
            "shuffleling\n"
          ],
          "name": "stdout"
        }
      ]
    },
    {
      "cell_type": "code",
      "metadata": {
        "colab": {
          "base_uri": "https://localhost:8080/"
        },
        "id": "26GKFxr62LMf",
        "outputId": "4483389f-ec79-46a5-ee78-538974fef325"
      },
      "source": [
        "y_pred , _ = mean_models_fusion(x_test, y_test, p_test, pos_test ,position_weights = [1,1,1,1,1,1,1,1] ,  mc_dropout = False)\n",
        "print('total',y_pred.shape)\n",
        "print('predicted cases',y_pred[y_pred[:,1]>=0.5].shape)"
      ],
      "execution_count": null,
      "outputs": [
        {
          "output_type": "stream",
          "text": [
            "y -> [[0. 1.]]\n",
            "patient 100  predicted: [0.26824605 0.73175395] expected: [0. 1.]\n",
            "y -> [[0. 1.]]\n",
            "patient 101  predicted: [0.24224682 0.7577532 ] expected: [0. 1.]\n",
            "y -> [[0. 1.]]\n",
            "patient 147  predicted: [0.44373423 0.5562658 ] expected: [0. 1.]\n",
            "y -> [[0. 1.]]\n",
            "patient 148  predicted: [0.43709266 0.5629074 ] expected: [0. 1.]\n",
            "y -> [[0. 1.]]\n",
            "patient 149  predicted: [0.26629367 0.7337063 ] expected: [0. 1.]\n",
            "y -> [[0. 1.]]\n",
            "patient 150  predicted: [0.21169433 0.7883057 ] expected: [0. 1.]\n",
            "y -> [[0. 1.]]\n",
            "patient 151  predicted: [0.252782 0.747218] expected: [0. 1.]\n",
            "y -> [[0. 1.]]\n",
            "patient 152  predicted: [0.1105678  0.88943225] expected: [0. 1.]\n",
            "y -> [[0. 1.]]\n",
            "patient 153  predicted: [0.35678124 0.64321876] expected: [0. 1.]\n",
            "y -> [[0. 1.]]\n",
            "patient 154  predicted: [0.2077356  0.79226446] expected: [0. 1.]\n",
            "y -> [[0. 1.]]\n",
            "patient 155  predicted: [0.14735492 0.8526451 ] expected: [0. 1.]\n",
            "y -> [[0. 1.]]\n",
            "patient 157  predicted: [0.40397152 0.59602845] expected: [0. 1.]\n",
            "y -> [[0. 1.]]\n",
            "patient 158  predicted: [0.17502108 0.82497895] expected: [0. 1.]\n",
            "y -> [[0. 1.]]\n",
            "patient 159  predicted: [0.242601   0.75739896] expected: [0. 1.]\n",
            "y -> [[0. 1.]]\n",
            "patient 160  predicted: [0.45323342 0.5467665 ] expected: [0. 1.]\n",
            "y -> [[0. 1.]]\n",
            "patient 161  predicted: [0.22010274 0.7798973 ] expected: [0. 1.]\n",
            "y -> [[0. 1.]]\n",
            "patient 162  predicted: [0.17215607 0.827844  ] expected: [0. 1.]\n",
            "y -> [[0. 1.]]\n",
            "patient 163  predicted: [0.08105256 0.91894746] expected: [0. 1.]\n",
            "y -> [[0. 1.]]\n",
            "patient 164  predicted: [0.5575434  0.44245657] expected: [0. 1.]\n",
            "y -> [[0. 1.]]\n",
            "patient 165  predicted: [0.3413033 0.6586967] expected: [0. 1.]\n",
            "y -> [[0. 1.]]\n",
            "patient 167  predicted: [0.47729462 0.5227054 ] expected: [0. 1.]\n",
            "y -> [[0. 1.]]\n",
            "patient 168  predicted: [0.5504852  0.44951472] expected: [0. 1.]\n",
            "y -> [[0. 1.]]\n",
            "patient 41  predicted: [0.30104026 0.69895977] expected: [0. 1.]\n",
            "y -> [[0. 1.]]\n",
            "patient 42  predicted: [0.22393815 0.7760619 ] expected: [0. 1.]\n",
            "y -> [[0. 1.]]\n",
            "patient 43  predicted: [0.29786593 0.702134  ] expected: [0. 1.]\n",
            "y -> [[0. 1.]]\n",
            "patient 44  predicted: [0.1997672 0.8002328] expected: [0. 1.]\n",
            "y -> [[0. 1.]]\n",
            "patient 45  predicted: [0.3609502  0.63904977] expected: [0. 1.]\n",
            "y -> [[0. 1.]]\n",
            "patient 46  predicted: [0.46586376 0.5341363 ] expected: [0. 1.]\n",
            "y -> [[0. 1.]]\n",
            "patient 47  predicted: [0.3635309 0.6364691] expected: [0. 1.]\n",
            "y -> [[0. 1.]]\n",
            "patient 48  predicted: [0.258227 0.741773] expected: [0. 1.]\n",
            "y -> [[0. 1.]]\n",
            "patient 49  predicted: [0.3129701 0.6870299] expected: [0. 1.]\n",
            "y -> [[0. 1.]]\n",
            "patient 50  predicted: [0.20121357 0.7987864 ] expected: [0. 1.]\n",
            "y -> [[0. 1.]]\n",
            "patient 92  predicted: [0.18340668 0.81659335] expected: [0. 1.]\n",
            "y -> [[0. 1.]]\n",
            "patient 93  predicted: [0.09489127 0.9051087 ] expected: [0. 1.]\n",
            "y -> [[0. 1.]]\n",
            "patient 94  predicted: [0.22499792 0.77500206] expected: [0. 1.]\n",
            "y -> [[0. 1.]]\n",
            "patient 95  predicted: [0.3560206 0.6439794] expected: [0. 1.]\n",
            "y -> [[0. 1.]]\n",
            "patient 96  predicted: [0.22498904 0.77501094] expected: [0. 1.]\n",
            "y -> [[0. 1.]]\n",
            "patient 97  predicted: [0.34057125 0.6594287 ] expected: [0. 1.]\n",
            "y -> [[0. 1.]]\n",
            "patient 98  predicted: [0.13940683 0.8605932 ] expected: [0. 1.]\n",
            "y -> [[0. 1.]]\n",
            "patient 99  predicted: [0.06775249 0.9322475 ] expected: [0. 1.]\n",
            "total (40, 2)\n",
            "predicted cases (38, 2)\n"
          ],
          "name": "stdout"
        }
      ]
    },
    {
      "cell_type": "code",
      "metadata": {
        "colab": {
          "base_uri": "https://localhost:8080/",
          "height": 1000
        },
        "id": "bZ2WneGnjwck",
        "outputId": "53bd0b50-2863-428c-971f-4e723cb9be12"
      },
      "source": [
        "y_pred , _ = mean_models_fusion(x_test, y_test, p_test, pos_test ,position_weights = [0,0,1,0,0,0,0,0] ,  mc_dropout = False)\r\n",
        "print('total',y_pred.shape)\r\n",
        "print('predicted cases',y_pred[y_pred[:,1]>=0.5].shape)\r\n"
      ],
      "execution_count": null,
      "outputs": [
        {
          "output_type": "stream",
          "text": [
            "y -> [[0. 1.]]\n",
            "patient 10  predicted: [0.11331779 0.8866823 ] expected: [0. 1.]\n",
            "y -> [[0. 1.]]\n",
            "patient 11  predicted: [0.08248964 0.9175103 ] expected: [0. 1.]\n",
            "y -> [[0. 1.]]\n",
            "patient 14  predicted: [0.07097512 0.9290249 ] expected: [0. 1.]\n",
            "y -> [[0. 1.]]\n"
          ],
          "name": "stdout"
        },
        {
          "output_type": "stream",
          "text": [
            "/usr/local/lib/python3.6/dist-packages/numpy/core/fromnumeric.py:3335: RuntimeWarning: Mean of empty slice.\n",
            "  out=out, **kwargs)\n",
            "/usr/local/lib/python3.6/dist-packages/numpy/core/_methods.py:161: RuntimeWarning: invalid value encountered in double_scalars\n",
            "  ret = ret.dtype.type(ret / rcount)\n"
          ],
          "name": "stderr"
        },
        {
          "output_type": "stream",
          "text": [
            "patient 15  predicted: nan expected: [0. 1.]\n",
            "y -> [[0. 1.]]\n",
            "patient 17  predicted: nan expected: [0. 1.]\n",
            "y -> [[0. 1.]]\n",
            "patient 18  predicted: nan expected: [0. 1.]\n",
            "y -> [[0. 1.]]\n",
            "patient 19  predicted: [0.20377761 0.7962223 ] expected: [0. 1.]\n",
            "y -> [[0. 1.]]\n",
            "patient 20  predicted: [0.09925503 0.90074503] expected: [0. 1.]\n",
            "y -> [[0. 1.]]\n",
            "patient 21  predicted: [0.17818607 0.8218139 ] expected: [0. 1.]\n",
            "y -> [[0. 1.]]\n",
            "patient 22  predicted: [0.20111977 0.7988802 ] expected: [0. 1.]\n",
            "y -> [[0. 1.]]\n",
            "patient 23  predicted: nan expected: [0. 1.]\n",
            "y -> [[0. 1.]]\n",
            "patient 24  predicted: nan expected: [0. 1.]\n",
            "y -> [[0. 1.]]\n",
            "patient 25  predicted: [0.12166371 0.87833637] expected: [0. 1.]\n",
            "y -> [[0. 1.]]\n",
            "patient 26  predicted: [0.11792495 0.882075  ] expected: [0. 1.]\n",
            "y -> [[0. 1.]]\n",
            "patient 27  predicted: [0.301392   0.69860804] expected: [0. 1.]\n",
            "y -> [[0. 1.]]\n",
            "patient 28  predicted: nan expected: [0. 1.]\n",
            "y -> [[0. 1.]]\n",
            "patient 29  predicted: [0.21370396 0.7862961 ] expected: [0. 1.]\n",
            "y -> [[0. 1.]]\n",
            "patient 31  predicted: [0.05179955 0.94820046] expected: [0. 1.]\n",
            "y -> [[0. 1.]]\n",
            "patient 32  predicted: [0.04807127 0.95192873] expected: [0. 1.]\n",
            "y -> [[0. 1.]]\n",
            "patient 33  predicted: [0.04914486 0.95085514] expected: [0. 1.]\n",
            "y -> [[0. 1.]]\n",
            "patient 34  predicted: nan expected: [0. 1.]\n",
            "y -> [[0. 1.]]\n",
            "patient 35  predicted: [0.06555162 0.93444836] expected: [0. 1.]\n",
            "y -> [[0. 1.]]\n",
            "patient 36  predicted: [0.05625019 0.9437498 ] expected: [0. 1.]\n",
            "y -> [[0. 1.]]\n",
            "patient 37  predicted: [0.05915865 0.9408413 ] expected: [0. 1.]\n",
            "y -> [[0. 1.]]\n",
            "patient 38  predicted: [0.08423214 0.9157679 ] expected: [0. 1.]\n",
            "y -> [[0. 1.]]\n",
            "patient 39  predicted: [0.04953916 0.95046073] expected: [0. 1.]\n",
            "y -> [[0. 1.]]\n",
            "patient 41  predicted: [0.04484321 0.9551568 ] expected: [0. 1.]\n",
            "y -> [[0. 1.]]\n",
            "patient 42  predicted: [0.04818529 0.9518148 ] expected: [0. 1.]\n",
            "y -> [[0. 1.]]\n",
            "patient 44  predicted: [0.04107574 0.95892423] expected: [0. 1.]\n",
            "y -> [[0. 1.]]\n",
            "patient 45  predicted: [0.03877754 0.96122247] expected: [0. 1.]\n",
            "y -> [[0. 1.]]\n",
            "patient 47  predicted: [0.03216079 0.96783924] expected: [0. 1.]\n",
            "y -> [[0. 1.]]\n",
            "patient 48  predicted: [0.06001683 0.9399831 ] expected: [0. 1.]\n",
            "y -> [[0. 1.]]\n",
            "patient 49  predicted: [0.05436884 0.9456312 ] expected: [0. 1.]\n",
            "y -> [[0. 1.]]\n",
            "patient 50  predicted: [0.06128967 0.9387104 ] expected: [0. 1.]\n",
            "y -> [[0. 1.]]\n",
            "patient 51  predicted: [0.1594806  0.84051937] expected: [0. 1.]\n",
            "y -> [[0. 1.]]\n",
            "patient 52  predicted: [0.06655288 0.93344706] expected: [0. 1.]\n",
            "y -> [[0. 1.]]\n",
            "patient 53  predicted: [0.03118027 0.96881974] expected: [0. 1.]\n",
            "y -> [[0. 1.]]\n",
            "patient 54  predicted: [0.06996842 0.93003154] expected: [0. 1.]\n",
            "y -> [[0. 1.]]\n",
            "patient 55  predicted: [0.03045292 0.9695471 ] expected: [0. 1.]\n",
            "y -> [[0. 1.]]\n",
            "patient 56  predicted: [0.0297316 0.9702684] expected: [0. 1.]\n",
            "y -> [[0. 1.]]\n",
            "patient 57  predicted: [0.03340263 0.9665974 ] expected: [0. 1.]\n",
            "y -> [[0. 1.]]\n",
            "patient 58  predicted: [0.75591147 0.24408856] expected: [0. 1.]\n",
            "y -> [[0. 1.]]\n",
            "patient 59  predicted: [0.73784816 0.26215187] expected: [0. 1.]\n",
            "y -> [[0. 1.]]\n",
            "patient 60  predicted: [0.45146012 0.5485399 ] expected: [0. 1.]\n",
            "y -> [[0. 1.]]\n",
            "patient 61  predicted: [0.6516789 0.3483211] expected: [0. 1.]\n",
            "y -> [[0. 1.]]\n",
            "patient 62  predicted: [0.54536426 0.45463577] expected: [0. 1.]\n",
            "y -> [[0. 1.]]\n",
            "patient 63  predicted: [0.73859304 0.26140687] expected: [0. 1.]\n",
            "y -> [[0. 1.]]\n",
            "patient 64  predicted: [0.76032525 0.23967475] expected: [0. 1.]\n",
            "y -> [[0. 1.]]\n",
            "patient 66  predicted: [0.55595183 0.4440482 ] expected: [0. 1.]\n",
            "y -> [[0. 1.]]\n",
            "patient 67  predicted: [0.59642    0.40358007] expected: [0. 1.]\n",
            "total (50,)\n"
          ],
          "name": "stdout"
        },
        {
          "output_type": "error",
          "ename": "IndexError",
          "evalue": "ignored",
          "traceback": [
            "\u001b[0;31m---------------------------------------------------------------------------\u001b[0m",
            "\u001b[0;31mIndexError\u001b[0m                                Traceback (most recent call last)",
            "\u001b[0;32m<ipython-input-30-156632ac2036>\u001b[0m in \u001b[0;36m<module>\u001b[0;34m()\u001b[0m\n\u001b[1;32m      1\u001b[0m \u001b[0my_pred\u001b[0m \u001b[0;34m,\u001b[0m \u001b[0m_\u001b[0m \u001b[0;34m=\u001b[0m \u001b[0mmean_models_fusion\u001b[0m\u001b[0;34m(\u001b[0m\u001b[0mx_test\u001b[0m\u001b[0;34m,\u001b[0m \u001b[0my_test\u001b[0m\u001b[0;34m,\u001b[0m \u001b[0mp_test\u001b[0m\u001b[0;34m,\u001b[0m \u001b[0mpos_test\u001b[0m \u001b[0;34m,\u001b[0m\u001b[0mposition_weights\u001b[0m \u001b[0;34m=\u001b[0m \u001b[0;34m[\u001b[0m\u001b[0;36m0\u001b[0m\u001b[0;34m,\u001b[0m\u001b[0;36m0\u001b[0m\u001b[0;34m,\u001b[0m\u001b[0;36m1\u001b[0m\u001b[0;34m,\u001b[0m\u001b[0;36m0\u001b[0m\u001b[0;34m,\u001b[0m\u001b[0;36m0\u001b[0m\u001b[0;34m,\u001b[0m\u001b[0;36m0\u001b[0m\u001b[0;34m,\u001b[0m\u001b[0;36m0\u001b[0m\u001b[0;34m,\u001b[0m\u001b[0;36m0\u001b[0m\u001b[0;34m]\u001b[0m \u001b[0;34m,\u001b[0m  \u001b[0mmc_dropout\u001b[0m \u001b[0;34m=\u001b[0m \u001b[0;32mFalse\u001b[0m\u001b[0;34m)\u001b[0m\u001b[0;34m\u001b[0m\u001b[0;34m\u001b[0m\u001b[0m\n\u001b[1;32m      2\u001b[0m \u001b[0mprint\u001b[0m\u001b[0;34m(\u001b[0m\u001b[0;34m'total'\u001b[0m\u001b[0;34m,\u001b[0m\u001b[0my_pred\u001b[0m\u001b[0;34m.\u001b[0m\u001b[0mshape\u001b[0m\u001b[0;34m)\u001b[0m\u001b[0;34m\u001b[0m\u001b[0;34m\u001b[0m\u001b[0m\n\u001b[0;32m----> 3\u001b[0;31m \u001b[0mprint\u001b[0m\u001b[0;34m(\u001b[0m\u001b[0;34m'predicted cases'\u001b[0m\u001b[0;34m,\u001b[0m\u001b[0my_pred\u001b[0m\u001b[0;34m[\u001b[0m\u001b[0my_pred\u001b[0m\u001b[0;34m[\u001b[0m\u001b[0;34m:\u001b[0m\u001b[0;34m,\u001b[0m\u001b[0;36m1\u001b[0m\u001b[0;34m]\u001b[0m\u001b[0;34m>=\u001b[0m\u001b[0;36m0.5\u001b[0m\u001b[0;34m]\u001b[0m\u001b[0;34m.\u001b[0m\u001b[0mshape\u001b[0m\u001b[0;34m)\u001b[0m\u001b[0;34m\u001b[0m\u001b[0;34m\u001b[0m\u001b[0m\n\u001b[0m",
            "\u001b[0;31mIndexError\u001b[0m: too many indices for array"
          ]
        }
      ]
    },
    {
      "cell_type": "code",
      "metadata": {
        "id": "MvjXtfL0iAni",
        "colab": {
          "base_uri": "https://localhost:8080/"
        },
        "outputId": "8b7edbf5-40f2-4809-b61d-483dad44f9ce"
      },
      "source": [
        "y_pred , _ = mean_models_fusion(x_test, y_test, p_test, pos_test ,position_weights = [1,1,1,0,0,0,0,0] ,  mc_dropout = False)\r\n",
        "print('total',y_pred.shape)\r\n",
        "print('predicted cases',np.sum(y_pred[:,1]>=0.5))"
      ],
      "execution_count": null,
      "outputs": [
        {
          "output_type": "stream",
          "text": [
            "y -> [[0. 1.]]\n",
            "patient 100  predicted: [0.3154582 0.6845419] expected: [0. 1.]\n",
            "y -> [[0. 1.]]\n",
            "patient 101  predicted: [0.40367913 0.5963208 ] expected: [0. 1.]\n",
            "y -> [[0. 1.]]\n",
            "patient 147  predicted: [0.7379702  0.26202983] expected: [0. 1.]\n",
            "y -> [[0. 1.]]\n",
            "patient 148  predicted: [0.56269556 0.43730447] expected: [0. 1.]\n",
            "y -> [[0. 1.]]\n",
            "patient 149  predicted: [0.3627838  0.63721615] expected: [0. 1.]\n",
            "y -> [[0. 1.]]\n",
            "patient 150  predicted: [0.2693896 0.7306104] expected: [0. 1.]\n",
            "y -> [[0. 1.]]\n",
            "patient 151  predicted: [0.22259666 0.7774033 ] expected: [0. 1.]\n",
            "y -> [[0. 1.]]\n",
            "patient 152  predicted: [0.09556106 0.904439  ] expected: [0. 1.]\n",
            "y -> [[0. 1.]]\n",
            "patient 153  predicted: [0.40221167 0.59778833] expected: [0. 1.]\n",
            "y -> [[0. 1.]]\n",
            "patient 154  predicted: [0.22248322 0.77751684] expected: [0. 1.]\n",
            "y -> [[0. 1.]]\n",
            "patient 155  predicted: [0.06439183 0.93560815] expected: [0. 1.]\n",
            "y -> [[0. 1.]]\n",
            "patient 157  predicted: [0.28217268 0.7178273 ] expected: [0. 1.]\n",
            "y -> [[0. 1.]]\n",
            "patient 158  predicted: [0.17188089 0.8281191 ] expected: [0. 1.]\n",
            "y -> [[0. 1.]]\n",
            "patient 159  predicted: [0.23663647 0.76336354] expected: [0. 1.]\n",
            "y -> [[0. 1.]]\n",
            "patient 160  predicted: [0.6279495  0.37205052] expected: [0. 1.]\n",
            "y -> [[0. 1.]]\n",
            "patient 161  predicted: [0.21141706 0.788583  ] expected: [0. 1.]\n",
            "y -> [[0. 1.]]\n",
            "patient 162  predicted: [0.18861194 0.8113881 ] expected: [0. 1.]\n",
            "y -> [[0. 1.]]\n",
            "patient 163  predicted: [0.06200914 0.93799084] expected: [0. 1.]\n",
            "y -> [[0. 1.]]\n",
            "patient 164  predicted: [0.7638156  0.23618448] expected: [0. 1.]\n",
            "y -> [[0. 1.]]\n",
            "patient 165  predicted: [0.4997779  0.50022215] expected: [0. 1.]\n",
            "y -> [[0. 1.]]\n",
            "patient 167  predicted: [0.5446603  0.45533976] expected: [0. 1.]\n",
            "y -> [[0. 1.]]\n",
            "patient 168  predicted: [0.59595066 0.4040493 ] expected: [0. 1.]\n",
            "y -> [[0. 1.]]\n",
            "patient 41  predicted: [0.4346477  0.56535226] expected: [0. 1.]\n",
            "y -> [[0. 1.]]\n",
            "patient 42  predicted: [0.26250637 0.7374936 ] expected: [0. 1.]\n",
            "y -> [[0. 1.]]\n",
            "patient 43  predicted: [0.3635778  0.63642216] expected: [0. 1.]\n",
            "y -> [[0. 1.]]\n",
            "patient 44  predicted: [0.2535465  0.74645346] expected: [0. 1.]\n",
            "y -> [[0. 1.]]\n",
            "patient 45  predicted: [0.4800272  0.51997274] expected: [0. 1.]\n",
            "y -> [[0. 1.]]\n",
            "patient 46  predicted: [0.50128704 0.49871293] expected: [0. 1.]\n",
            "y -> [[0. 1.]]\n",
            "patient 47  predicted: [0.5232708  0.47672927] expected: [0. 1.]\n",
            "y -> [[0. 1.]]\n",
            "patient 48  predicted: [0.19349854 0.8065014 ] expected: [0. 1.]\n",
            "y -> [[0. 1.]]\n",
            "patient 49  predicted: [0.4389168  0.56108314] expected: [0. 1.]\n",
            "y -> [[0. 1.]]\n",
            "patient 50  predicted: [0.34783438 0.65216553] expected: [0. 1.]\n",
            "y -> [[0. 1.]]\n",
            "patient 92  predicted: [0.11235285 0.88764715] expected: [0. 1.]\n",
            "y -> [[0. 1.]]\n",
            "patient 93  predicted: [0.12549947 0.8745005 ] expected: [0. 1.]\n",
            "y -> [[0. 1.]]\n",
            "patient 94  predicted: [0.24388821 0.7561118 ] expected: [0. 1.]\n",
            "y -> [[0. 1.]]\n",
            "patient 95  predicted: [0.3465258  0.65347415] expected: [0. 1.]\n",
            "y -> [[0. 1.]]\n",
            "patient 96  predicted: [0.33465907 0.6653409 ] expected: [0. 1.]\n",
            "y -> [[0. 1.]]\n",
            "patient 97  predicted: [0.36740506 0.632595  ] expected: [0. 1.]\n",
            "y -> [[0. 1.]]\n",
            "patient 98  predicted: [0.00694964 0.9930504 ] expected: [0. 1.]\n",
            "y -> [[0. 1.]]\n",
            "patient 99  predicted: [0.02561963 0.9743803 ] expected: [0. 1.]\n",
            "total (40, 2)\n",
            "predicted cases 32\n"
          ],
          "name": "stdout"
        }
      ]
    },
    {
      "cell_type": "code",
      "metadata": {
        "id": "xSfDtu3NiJ0I"
      },
      "source": [
        ""
      ],
      "execution_count": null,
      "outputs": []
    },
    {
      "cell_type": "code",
      "metadata": {
        "id": "DY-jvlxgiOlC"
      },
      "source": [
        ""
      ],
      "execution_count": null,
      "outputs": []
    },
    {
      "cell_type": "code",
      "metadata": {
        "id": "foqx2vNl1B72"
      },
      "source": [
        ""
      ],
      "execution_count": null,
      "outputs": []
    },
    {
      "cell_type": "code",
      "metadata": {
        "id": "jfjFfckT0c1O"
      },
      "source": [
        ""
      ],
      "execution_count": null,
      "outputs": []
    },
    {
      "cell_type": "code",
      "metadata": {
        "id": "6tN_KyNV0qDd"
      },
      "source": [
        ""
      ],
      "execution_count": null,
      "outputs": []
    },
    {
      "cell_type": "code",
      "metadata": {
        "id": "5MxgHDOz0vpI"
      },
      "source": [
        ""
      ],
      "execution_count": null,
      "outputs": []
    }
  ]
}