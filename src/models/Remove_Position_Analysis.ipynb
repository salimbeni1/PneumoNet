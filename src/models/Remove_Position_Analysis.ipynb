{
  "nbformat": 4,
  "nbformat_minor": 0,
  "metadata": {
    "colab": {
      "name": "Remove Position Analysis.ipynb",
      "provenance": [],
      "collapsed_sections": []
    },
    "kernelspec": {
      "name": "python3",
      "display_name": "Python 3"
    }
  },
  "cells": [
    {
      "cell_type": "code",
      "metadata": {
        "colab": {
          "base_uri": "https://localhost:8080/"
        },
        "id": "JUCuR-32qKAU",
        "outputId": "d337cdc4-3aa1-4d90-e778-73ccafba9464"
      },
      "source": [
        "from google.colab import drive\n",
        "drive.mount('/content/drive')"
      ],
      "execution_count": null,
      "outputs": [
        {
          "output_type": "stream",
          "text": [
            "Mounted at /content/drive\n"
          ],
          "name": "stdout"
        }
      ]
    },
    {
      "cell_type": "code",
      "metadata": {
        "colab": {
          "base_uri": "https://localhost:8080/"
        },
        "id": "yI4p3vo5qeFG",
        "outputId": "74aec189-2741-4813-9492-72566d4ac740"
      },
      "source": [
        "%cd /content/drive/MyDrive/EPFL Account/ML Project 2/ml_project2/src\n",
        "#specify the location like .../ml_project2/src\n"
      ],
      "execution_count": null,
      "outputs": [
        {
          "output_type": "stream",
          "text": [
            "/content/drive/MyDrive/EPFL Account/ML Project 2/ml_project2/src\n"
          ],
          "name": "stdout"
        }
      ]
    },
    {
      "cell_type": "code",
      "metadata": {
        "id": "dymdYKJyqiiF"
      },
      "source": [
        "import os\n",
        "import numpy as np\n",
        "import matplotlib.pyplot as plt\n"
      ],
      "execution_count": null,
      "outputs": []
    },
    {
      "cell_type": "code",
      "metadata": {
        "id": "_xBuzjuBqm3k"
      },
      "source": [
        "path  = 'models/TRAIN_ON_GVA_REM_POS_'\n",
        "\"\"\"Load the logs of all the models with each position removed. The last model\n",
        "i.e. #9 is the full model with no position removed. Append the lowest validation\n",
        "loss and corresponding accuracy and f1 for each and calculate means and stds. \"\"\"\n",
        "\n",
        "accu = []\n",
        "los = []\n",
        "f = []\n",
        "for p in range(1, 10):\n",
        "  full_path = path + str(p)\n",
        "  val_loss = []\n",
        "  val_acc = []  \n",
        "  val_f1 = []\n",
        "  for file in os.listdir(full_path):\n",
        "    if file.endswith(\".txt\"):\n",
        "      acc, f1, loss = np.loadtxt(os.path.join(full_path, file), delimiter=',', skiprows=1, usecols=(4, 5, 6), unpack=True)\n",
        "      val_loss.append(np.min(loss))\n",
        "      val_acc.append(acc[np.argmin(loss)])\n",
        "      val_f1.append(f1[np.argmin(loss)])\n",
        "  accu.append([np.mean(val_acc), np.std(val_acc)])\n",
        "  f.append([np.mean(val_f1), np.std(val_f1)])\n",
        "  los.append([np.mean(val_loss), np.std(val_loss)])\n"
      ],
      "execution_count": null,
      "outputs": []
    },
    {
      "cell_type": "code",
      "metadata": {
        "id": "4glMet5VDXyV",
        "colab": {
          "base_uri": "https://localhost:8080/"
        },
        "outputId": "06603afc-a546-4157-e06f-b48d03ba6fbe"
      },
      "source": [
        "los = np.array(los)\n",
        "accu = np.array(accu)\n",
        "f = np.array(f)\n",
        "\n",
        "loss_mean = los[:-1, 0] - los[-1, 0] \n",
        "# subtract the mean of the full model from the reduced models\n",
        "loss_std = np.sqrt((los[:-1, 1])**2 + (los[-1, 1])**2)  # add stds in quadrature\n",
        "\n",
        "# same for accuracy and f1\n",
        "acc_mean = accu[:-1, 0] - accu[-1, 0]\n",
        "acc_std = np.sqrt((accu[:-1, 1])**2 + (accu[-1, 1])**2)\n",
        "\n",
        "\n",
        "f1_mean = f[:-1, 0] - f[-1, 0]\n",
        "f1_std = np.sqrt((f[:-1, 1])**2 + (f[-1, 1])**2)\n",
        "\n",
        "print(f1_mean.shape)"
      ],
      "execution_count": null,
      "outputs": [
        {
          "output_type": "stream",
          "text": [
            "(8,)\n"
          ],
          "name": "stdout"
        }
      ]
    },
    {
      "cell_type": "code",
      "metadata": {
        "colab": {
          "base_uri": "https://localhost:8080/",
          "height": 295
        },
        "id": "0gj7tycfu6u7",
        "outputId": "43e417ba-a62d-45c4-840f-65d9ccb654d3"
      },
      "source": [
        "\n",
        "for i in range(8):\n",
        "  plt.bar(i+1 + -0.25, loss_mean[i], color = 'r', width = 0.25, yerr=loss_std[i])\n",
        "  plt.bar(i+1 + 0., acc_mean[i], color = 'b', width = 0.25, yerr=acc_std[i])\n",
        "  plt.bar(i+1 + 0.25, f1_mean[i], color = 'gold', width = 0.25, yerr=f1_std[i])\n",
        "\n",
        "plt.title('Summary Statistics for each Position Removed')\n",
        "plt.legend(['test_loss', 'test_acc','test_f1'], loc='upper right')\n",
        "plt.xlabel('Position Number Removed')\n",
        "plt.ylim(top=0.35)\n",
        "#plt.savefig('Positions_Removed_Aggregate_Hist.pdf')\n",
        "plt.show()"
      ],
      "execution_count": null,
      "outputs": [
        {
          "output_type": "display_data",
          "data": {
            "image/png": "[encoded data removed]",
            "text/plain": [
              "<Figure size 432x288 with 1 Axes>"
            ]
          },
          "metadata": {
            "tags": [],
            "needs_background": "light"
          }
        }
      ]
    },
    {
      "cell_type": "code",
      "metadata": {
        "id": "YYS4z-rYehFo"
      },
      "source": [
        ""
      ],
      "execution_count": null,
      "outputs": []
    }
  ]
}